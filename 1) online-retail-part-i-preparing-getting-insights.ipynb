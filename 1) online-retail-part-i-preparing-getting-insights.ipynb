{
 "cells": [
  {
   "cell_type": "markdown",
   "id": "7ac1b7cc",
   "metadata": {
    "papermill": {
     "duration": 0.045562,
     "end_time": "2021-10-29T02:58:18.782923",
     "exception": false,
     "start_time": "2021-10-29T02:58:18.737361",
     "status": "completed"
    },
    "tags": []
   },
   "source": [
    "# Introduction\n",
    "\n",
    "This is first part of https://www.kaggle.com/mustafacicek/detailed-marketing-cohort-pareto-rfm-forecast"
   ]
  },
  {
   "cell_type": "code",
   "execution_count": 1,
   "id": "e793e09b",
   "metadata": {
    "_cell_guid": "b1076dfc-b9ad-4769-8c92-a6c4dae69d19",
    "_uuid": "8f2839f25d086af736a60e9eeb907d3b93b6e0e5",
    "execution": {
     "iopub.execute_input": "2021-10-29T02:58:18.864427Z",
     "iopub.status.busy": "2021-10-29T02:58:18.862758Z",
     "iopub.status.idle": "2021-10-29T02:58:20.428638Z",
     "shell.execute_reply": "2021-10-29T02:58:20.427950Z",
     "shell.execute_reply.started": "2021-10-29T02:42:13.363139Z"
    },
    "papermill": {
     "duration": 1.608313,
     "end_time": "2021-10-29T02:58:20.428831",
     "exception": false,
     "start_time": "2021-10-29T02:58:18.820518",
     "status": "completed"
    },
    "tags": []
   },
   "outputs": [],
   "source": [
    "import pandas as pd\n",
    "import numpy as np\n",
    "import seaborn as sns\n",
    "import matplotlib.pyplot as plt\n",
    "import datetime as dt\n",
    "from matplotlib.ticker import PercentFormatter\n",
    "from sklearn.preprocessing import StandardScaler\n",
    "from sklearn.cluster import KMeans\n",
    "from yellowbrick.cluster import KElbowVisualizer\n",
    "from itertools import combinations\n",
    "\n",
    "pd.options.mode.chained_assignment = None\n",
    "\n",
    "plt.rcParams[\"axes.facecolor\"] = \"#A2A2A2\"\n",
    "plt.rcParams[\"axes.grid\"] = 1"
   ]
  },
  {
   "cell_type": "markdown",
   "id": "cf23ab8d",
   "metadata": {
    "papermill": {
     "duration": 0.036421,
     "end_time": "2021-10-29T02:58:20.502063",
     "exception": false,
     "start_time": "2021-10-29T02:58:20.465642",
     "status": "completed"
    },
    "tags": []
   },
   "source": [
    "<a id=\"section-one\"></a>\n",
    "\n",
    "# 1) General Infos & Playing with Features"
   ]
  },
  {
   "cell_type": "code",
   "execution_count": 2,
   "id": "30cb3696",
   "metadata": {
    "_kg_hide-input": true,
    "execution": {
     "iopub.execute_input": "2021-10-29T02:58:20.578434Z",
     "iopub.status.busy": "2021-10-29T02:58:20.577547Z",
     "iopub.status.idle": "2021-10-29T02:58:21.639832Z",
     "shell.execute_reply": "2021-10-29T02:58:21.640285Z",
     "shell.execute_reply.started": "2021-10-29T02:42:14.967243Z"
    },
    "papermill": {
     "duration": 1.102021,
     "end_time": "2021-10-29T02:58:21.640446",
     "exception": false,
     "start_time": "2021-10-29T02:58:20.538425",
     "status": "completed"
    },
    "tags": []
   },
   "outputs": [
    {
     "data": {
      "text/html": [
       "<div>\n",
       "<style scoped>\n",
       "    .dataframe tbody tr th:only-of-type {\n",
       "        vertical-align: middle;\n",
       "    }\n",
       "\n",
       "    .dataframe tbody tr th {\n",
       "        vertical-align: top;\n",
       "    }\n",
       "\n",
       "    .dataframe thead th {\n",
       "        text-align: right;\n",
       "    }\n",
       "</style>\n",
       "<table border=\"1\" class=\"dataframe\">\n",
       "  <thead>\n",
       "    <tr style=\"text-align: right;\">\n",
       "      <th></th>\n",
       "      <th>InvoiceNo</th>\n",
       "      <th>StockCode</th>\n",
       "      <th>Description</th>\n",
       "      <th>Quantity</th>\n",
       "      <th>InvoiceDate</th>\n",
       "      <th>UnitPrice</th>\n",
       "      <th>CustomerID</th>\n",
       "      <th>Country</th>\n",
       "    </tr>\n",
       "  </thead>\n",
       "  <tbody>\n",
       "    <tr>\n",
       "      <th>0</th>\n",
       "      <td>536365</td>\n",
       "      <td>85123A</td>\n",
       "      <td>WHITE HANGING HEART T-LIGHT HOLDER</td>\n",
       "      <td>6</td>\n",
       "      <td>12/1/2010 8:26</td>\n",
       "      <td>2.55</td>\n",
       "      <td>17850.0</td>\n",
       "      <td>United Kingdom</td>\n",
       "    </tr>\n",
       "    <tr>\n",
       "      <th>1</th>\n",
       "      <td>536365</td>\n",
       "      <td>71053</td>\n",
       "      <td>WHITE METAL LANTERN</td>\n",
       "      <td>6</td>\n",
       "      <td>12/1/2010 8:26</td>\n",
       "      <td>3.39</td>\n",
       "      <td>17850.0</td>\n",
       "      <td>United Kingdom</td>\n",
       "    </tr>\n",
       "    <tr>\n",
       "      <th>2</th>\n",
       "      <td>536365</td>\n",
       "      <td>84406B</td>\n",
       "      <td>CREAM CUPID HEARTS COAT HANGER</td>\n",
       "      <td>8</td>\n",
       "      <td>12/1/2010 8:26</td>\n",
       "      <td>2.75</td>\n",
       "      <td>17850.0</td>\n",
       "      <td>United Kingdom</td>\n",
       "    </tr>\n",
       "    <tr>\n",
       "      <th>3</th>\n",
       "      <td>536365</td>\n",
       "      <td>84029G</td>\n",
       "      <td>KNITTED UNION FLAG HOT WATER BOTTLE</td>\n",
       "      <td>6</td>\n",
       "      <td>12/1/2010 8:26</td>\n",
       "      <td>3.39</td>\n",
       "      <td>17850.0</td>\n",
       "      <td>United Kingdom</td>\n",
       "    </tr>\n",
       "    <tr>\n",
       "      <th>4</th>\n",
       "      <td>536365</td>\n",
       "      <td>84029E</td>\n",
       "      <td>RED WOOLLY HOTTIE WHITE HEART.</td>\n",
       "      <td>6</td>\n",
       "      <td>12/1/2010 8:26</td>\n",
       "      <td>3.39</td>\n",
       "      <td>17850.0</td>\n",
       "      <td>United Kingdom</td>\n",
       "    </tr>\n",
       "  </tbody>\n",
       "</table>\n",
       "</div>"
      ],
      "text/plain": [
       "  InvoiceNo StockCode                          Description  Quantity  \\\n",
       "0    536365    85123A   WHITE HANGING HEART T-LIGHT HOLDER         6   \n",
       "1    536365     71053                  WHITE METAL LANTERN         6   \n",
       "2    536365    84406B       CREAM CUPID HEARTS COAT HANGER         8   \n",
       "3    536365    84029G  KNITTED UNION FLAG HOT WATER BOTTLE         6   \n",
       "4    536365    84029E       RED WOOLLY HOTTIE WHITE HEART.         6   \n",
       "\n",
       "      InvoiceDate  UnitPrice  CustomerID         Country  \n",
       "0  12/1/2010 8:26       2.55     17850.0  United Kingdom  \n",
       "1  12/1/2010 8:26       3.39     17850.0  United Kingdom  \n",
       "2  12/1/2010 8:26       2.75     17850.0  United Kingdom  \n",
       "3  12/1/2010 8:26       3.39     17850.0  United Kingdom  \n",
       "4  12/1/2010 8:26       3.39     17850.0  United Kingdom  "
      ]
     },
     "metadata": {},
     "output_type": "display_data"
    },
    {
     "name": "stdout",
     "output_type": "stream",
     "text": [
      "(541909, 8)\n"
     ]
    }
   ],
   "source": [
    "df = pd.read_csv(\"../input/ecommerce-data/data.csv\")\n",
    "display(df.head())\n",
    "print(df.shape)"
   ]
  },
  {
   "cell_type": "code",
   "execution_count": 3,
   "id": "0e326c8f",
   "metadata": {
    "_kg_hide-input": true,
    "execution": {
     "iopub.execute_input": "2021-10-29T02:58:21.720554Z",
     "iopub.status.busy": "2021-10-29T02:58:21.719970Z",
     "iopub.status.idle": "2021-10-29T02:58:21.847817Z",
     "shell.execute_reply": "2021-10-29T02:58:21.848307Z",
     "shell.execute_reply.started": "2021-10-29T02:42:16.245171Z"
    },
    "papermill": {
     "duration": 0.170514,
     "end_time": "2021-10-29T02:58:21.848508",
     "exception": false,
     "start_time": "2021-10-29T02:58:21.677994",
     "status": "completed"
    },
    "tags": []
   },
   "outputs": [
    {
     "name": "stdout",
     "output_type": "stream",
     "text": [
      "<class 'pandas.core.frame.DataFrame'>\n",
      "RangeIndex: 541909 entries, 0 to 541908\n",
      "Data columns (total 8 columns):\n",
      " #   Column       Non-Null Count   Dtype  \n",
      "---  ------       --------------   -----  \n",
      " 0   InvoiceNo    541909 non-null  object \n",
      " 1   StockCode    541909 non-null  object \n",
      " 2   Description  540455 non-null  object \n",
      " 3   Quantity     541909 non-null  int64  \n",
      " 4   InvoiceDate  541909 non-null  object \n",
      " 5   UnitPrice    541909 non-null  float64\n",
      " 6   CustomerID   406829 non-null  float64\n",
      " 7   Country      541909 non-null  object \n",
      "dtypes: float64(2), int64(1), object(5)\n",
      "memory usage: 33.1+ MB\n"
     ]
    }
   ],
   "source": [
    "df.info()"
   ]
  },
  {
   "cell_type": "markdown",
   "id": "056ddd13",
   "metadata": {
    "papermill": {
     "duration": 0.037266,
     "end_time": "2021-10-29T02:58:21.924859",
     "exception": false,
     "start_time": "2021-10-29T02:58:21.887593",
     "status": "completed"
    },
    "tags": []
   },
   "source": [
    "We have missing values for column Description and CustomerID. Go deeper"
   ]
  },
  {
   "cell_type": "code",
   "execution_count": 4,
   "id": "5dba93ce",
   "metadata": {
    "execution": {
     "iopub.execute_input": "2021-10-29T02:58:22.006610Z",
     "iopub.status.busy": "2021-10-29T02:58:22.005967Z",
     "iopub.status.idle": "2021-10-29T02:58:22.118775Z",
     "shell.execute_reply": "2021-10-29T02:58:22.119178Z",
     "shell.execute_reply.started": "2021-10-29T02:42:16.541505Z"
    },
    "papermill": {
     "duration": 0.155417,
     "end_time": "2021-10-29T02:58:22.119342",
     "exception": false,
     "start_time": "2021-10-29T02:58:21.963925",
     "status": "completed"
    },
    "tags": []
   },
   "outputs": [
    {
     "data": {
      "text/plain": [
       "InvoiceNo           0\n",
       "StockCode           0\n",
       "Description      1454\n",
       "Quantity            0\n",
       "InvoiceDate         0\n",
       "UnitPrice           0\n",
       "CustomerID     135080\n",
       "Country             0\n",
       "dtype: int64"
      ]
     },
     "execution_count": 4,
     "metadata": {},
     "output_type": "execute_result"
    }
   ],
   "source": [
    "df.isnull().sum()"
   ]
  },
  {
   "cell_type": "code",
   "execution_count": 5,
   "id": "7205b167",
   "metadata": {
    "execution": {
     "iopub.execute_input": "2021-10-29T02:58:22.220098Z",
     "iopub.status.busy": "2021-10-29T02:58:22.219372Z",
     "iopub.status.idle": "2021-10-29T02:58:22.241611Z",
     "shell.execute_reply": "2021-10-29T02:58:22.240723Z",
     "shell.execute_reply.started": "2021-10-29T02:42:16.816877Z"
    },
    "papermill": {
     "duration": 0.084821,
     "end_time": "2021-10-29T02:58:22.241750",
     "exception": false,
     "start_time": "2021-10-29T02:58:22.156929",
     "status": "completed"
    },
    "tags": []
   },
   "outputs": [
    {
     "data": {
      "text/html": [
       "<div>\n",
       "<style scoped>\n",
       "    .dataframe tbody tr th:only-of-type {\n",
       "        vertical-align: middle;\n",
       "    }\n",
       "\n",
       "    .dataframe tbody tr th {\n",
       "        vertical-align: top;\n",
       "    }\n",
       "\n",
       "    .dataframe thead th {\n",
       "        text-align: right;\n",
       "    }\n",
       "</style>\n",
       "<table border=\"1\" class=\"dataframe\">\n",
       "  <thead>\n",
       "    <tr style=\"text-align: right;\">\n",
       "      <th></th>\n",
       "      <th>InvoiceNo</th>\n",
       "      <th>StockCode</th>\n",
       "      <th>Description</th>\n",
       "      <th>Quantity</th>\n",
       "      <th>InvoiceDate</th>\n",
       "      <th>UnitPrice</th>\n",
       "      <th>CustomerID</th>\n",
       "      <th>Country</th>\n",
       "    </tr>\n",
       "  </thead>\n",
       "  <tbody>\n",
       "    <tr>\n",
       "      <th>622</th>\n",
       "      <td>536414</td>\n",
       "      <td>22139</td>\n",
       "      <td>NaN</td>\n",
       "      <td>56</td>\n",
       "      <td>12/1/2010 11:52</td>\n",
       "      <td>0.0</td>\n",
       "      <td>NaN</td>\n",
       "      <td>United Kingdom</td>\n",
       "    </tr>\n",
       "    <tr>\n",
       "      <th>1970</th>\n",
       "      <td>536545</td>\n",
       "      <td>21134</td>\n",
       "      <td>NaN</td>\n",
       "      <td>1</td>\n",
       "      <td>12/1/2010 14:32</td>\n",
       "      <td>0.0</td>\n",
       "      <td>NaN</td>\n",
       "      <td>United Kingdom</td>\n",
       "    </tr>\n",
       "    <tr>\n",
       "      <th>1971</th>\n",
       "      <td>536546</td>\n",
       "      <td>22145</td>\n",
       "      <td>NaN</td>\n",
       "      <td>1</td>\n",
       "      <td>12/1/2010 14:33</td>\n",
       "      <td>0.0</td>\n",
       "      <td>NaN</td>\n",
       "      <td>United Kingdom</td>\n",
       "    </tr>\n",
       "    <tr>\n",
       "      <th>1972</th>\n",
       "      <td>536547</td>\n",
       "      <td>37509</td>\n",
       "      <td>NaN</td>\n",
       "      <td>1</td>\n",
       "      <td>12/1/2010 14:33</td>\n",
       "      <td>0.0</td>\n",
       "      <td>NaN</td>\n",
       "      <td>United Kingdom</td>\n",
       "    </tr>\n",
       "    <tr>\n",
       "      <th>1987</th>\n",
       "      <td>536549</td>\n",
       "      <td>85226A</td>\n",
       "      <td>NaN</td>\n",
       "      <td>1</td>\n",
       "      <td>12/1/2010 14:34</td>\n",
       "      <td>0.0</td>\n",
       "      <td>NaN</td>\n",
       "      <td>United Kingdom</td>\n",
       "    </tr>\n",
       "    <tr>\n",
       "      <th>...</th>\n",
       "      <td>...</td>\n",
       "      <td>...</td>\n",
       "      <td>...</td>\n",
       "      <td>...</td>\n",
       "      <td>...</td>\n",
       "      <td>...</td>\n",
       "      <td>...</td>\n",
       "      <td>...</td>\n",
       "    </tr>\n",
       "    <tr>\n",
       "      <th>535322</th>\n",
       "      <td>581199</td>\n",
       "      <td>84581</td>\n",
       "      <td>NaN</td>\n",
       "      <td>-2</td>\n",
       "      <td>12/7/2011 18:26</td>\n",
       "      <td>0.0</td>\n",
       "      <td>NaN</td>\n",
       "      <td>United Kingdom</td>\n",
       "    </tr>\n",
       "    <tr>\n",
       "      <th>535326</th>\n",
       "      <td>581203</td>\n",
       "      <td>23406</td>\n",
       "      <td>NaN</td>\n",
       "      <td>15</td>\n",
       "      <td>12/7/2011 18:31</td>\n",
       "      <td>0.0</td>\n",
       "      <td>NaN</td>\n",
       "      <td>United Kingdom</td>\n",
       "    </tr>\n",
       "    <tr>\n",
       "      <th>535332</th>\n",
       "      <td>581209</td>\n",
       "      <td>21620</td>\n",
       "      <td>NaN</td>\n",
       "      <td>6</td>\n",
       "      <td>12/7/2011 18:35</td>\n",
       "      <td>0.0</td>\n",
       "      <td>NaN</td>\n",
       "      <td>United Kingdom</td>\n",
       "    </tr>\n",
       "    <tr>\n",
       "      <th>536981</th>\n",
       "      <td>581234</td>\n",
       "      <td>72817</td>\n",
       "      <td>NaN</td>\n",
       "      <td>27</td>\n",
       "      <td>12/8/2011 10:33</td>\n",
       "      <td>0.0</td>\n",
       "      <td>NaN</td>\n",
       "      <td>United Kingdom</td>\n",
       "    </tr>\n",
       "    <tr>\n",
       "      <th>538554</th>\n",
       "      <td>581408</td>\n",
       "      <td>85175</td>\n",
       "      <td>NaN</td>\n",
       "      <td>20</td>\n",
       "      <td>12/8/2011 14:06</td>\n",
       "      <td>0.0</td>\n",
       "      <td>NaN</td>\n",
       "      <td>United Kingdom</td>\n",
       "    </tr>\n",
       "  </tbody>\n",
       "</table>\n",
       "<p>1454 rows × 8 columns</p>\n",
       "</div>"
      ],
      "text/plain": [
       "       InvoiceNo StockCode Description  Quantity      InvoiceDate  UnitPrice  \\\n",
       "622       536414     22139         NaN        56  12/1/2010 11:52        0.0   \n",
       "1970      536545     21134         NaN         1  12/1/2010 14:32        0.0   \n",
       "1971      536546     22145         NaN         1  12/1/2010 14:33        0.0   \n",
       "1972      536547     37509         NaN         1  12/1/2010 14:33        0.0   \n",
       "1987      536549    85226A         NaN         1  12/1/2010 14:34        0.0   \n",
       "...          ...       ...         ...       ...              ...        ...   \n",
       "535322    581199     84581         NaN        -2  12/7/2011 18:26        0.0   \n",
       "535326    581203     23406         NaN        15  12/7/2011 18:31        0.0   \n",
       "535332    581209     21620         NaN         6  12/7/2011 18:35        0.0   \n",
       "536981    581234     72817         NaN        27  12/8/2011 10:33        0.0   \n",
       "538554    581408     85175         NaN        20  12/8/2011 14:06        0.0   \n",
       "\n",
       "        CustomerID         Country  \n",
       "622            NaN  United Kingdom  \n",
       "1970           NaN  United Kingdom  \n",
       "1971           NaN  United Kingdom  \n",
       "1972           NaN  United Kingdom  \n",
       "1987           NaN  United Kingdom  \n",
       "...            ...             ...  \n",
       "535322         NaN  United Kingdom  \n",
       "535326         NaN  United Kingdom  \n",
       "535332         NaN  United Kingdom  \n",
       "536981         NaN  United Kingdom  \n",
       "538554         NaN  United Kingdom  \n",
       "\n",
       "[1454 rows x 8 columns]"
      ]
     },
     "execution_count": 5,
     "metadata": {},
     "output_type": "execute_result"
    }
   ],
   "source": [
    "df[df.Description.isnull()]"
   ]
  },
  {
   "cell_type": "markdown",
   "id": "52094379",
   "metadata": {
    "papermill": {
     "duration": 0.038062,
     "end_time": "2021-10-29T02:58:22.318166",
     "exception": false,
     "start_time": "2021-10-29T02:58:22.280104",
     "status": "completed"
    },
    "tags": []
   },
   "source": [
    "When description is null, we have 0 unit price and missing customer ids. Let's check for whole data."
   ]
  },
  {
   "cell_type": "code",
   "execution_count": 6,
   "id": "d741675d",
   "metadata": {
    "execution": {
     "iopub.execute_input": "2021-10-29T02:58:22.399296Z",
     "iopub.status.busy": "2021-10-29T02:58:22.398688Z",
     "iopub.status.idle": "2021-10-29T02:58:22.427250Z",
     "shell.execute_reply": "2021-10-29T02:58:22.426707Z",
     "shell.execute_reply.started": "2021-10-29T02:42:16.898198Z"
    },
    "papermill": {
     "duration": 0.069812,
     "end_time": "2021-10-29T02:58:22.427375",
     "exception": false,
     "start_time": "2021-10-29T02:58:22.357563",
     "status": "completed"
    },
    "tags": []
   },
   "outputs": [
    {
     "data": {
      "text/plain": [
       "0"
      ]
     },
     "execution_count": 6,
     "metadata": {},
     "output_type": "execute_result"
    }
   ],
   "source": [
    "df[df.Description.isnull()].CustomerID.nunique()"
   ]
  },
  {
   "cell_type": "code",
   "execution_count": 7,
   "id": "7b4329cf",
   "metadata": {
    "execution": {
     "iopub.execute_input": "2021-10-29T02:58:22.530457Z",
     "iopub.status.busy": "2021-10-29T02:58:22.529848Z",
     "iopub.status.idle": "2021-10-29T02:58:22.538682Z",
     "shell.execute_reply": "2021-10-29T02:58:22.539225Z",
     "shell.execute_reply.started": "2021-10-29T02:42:16.960951Z"
    },
    "papermill": {
     "duration": 0.072988,
     "end_time": "2021-10-29T02:58:22.539393",
     "exception": false,
     "start_time": "2021-10-29T02:58:22.466405",
     "status": "completed"
    },
    "tags": []
   },
   "outputs": [
    {
     "data": {
      "text/plain": [
       "0.0    1454\n",
       "Name: UnitPrice, dtype: int64"
      ]
     },
     "execution_count": 7,
     "metadata": {},
     "output_type": "execute_result"
    }
   ],
   "source": [
    "df[df.Description.isnull()].UnitPrice.value_counts()"
   ]
  },
  {
   "cell_type": "markdown",
   "id": "5f4c2681",
   "metadata": {
    "papermill": {
     "duration": 0.039032,
     "end_time": "2021-10-29T02:58:22.617438",
     "exception": false,
     "start_time": "2021-10-29T02:58:22.578406",
     "status": "completed"
    },
    "tags": []
   },
   "source": [
    "When description is null, we have no available customer id and zero unit price for all data. Let's drop nan values."
   ]
  },
  {
   "cell_type": "code",
   "execution_count": 8,
   "id": "e4b04d84",
   "metadata": {
    "execution": {
     "iopub.execute_input": "2021-10-29T02:58:22.698910Z",
     "iopub.status.busy": "2021-10-29T02:58:22.698000Z",
     "iopub.status.idle": "2021-10-29T02:58:22.774436Z",
     "shell.execute_reply": "2021-10-29T02:58:22.775083Z",
     "shell.execute_reply.started": "2021-10-29T02:42:17.032595Z"
    },
    "papermill": {
     "duration": 0.118982,
     "end_time": "2021-10-29T02:58:22.775295",
     "exception": false,
     "start_time": "2021-10-29T02:58:22.656313",
     "status": "completed"
    },
    "tags": []
   },
   "outputs": [],
   "source": [
    "df = df[df.Description.notnull()]"
   ]
  },
  {
   "cell_type": "code",
   "execution_count": 9,
   "id": "4e00b527",
   "metadata": {
    "execution": {
     "iopub.execute_input": "2021-10-29T02:58:22.856878Z",
     "iopub.status.busy": "2021-10-29T02:58:22.855905Z",
     "iopub.status.idle": "2021-10-29T02:58:22.888172Z",
     "shell.execute_reply": "2021-10-29T02:58:22.887736Z",
     "shell.execute_reply.started": "2021-10-29T02:42:17.146248Z"
    },
    "papermill": {
     "duration": 0.074094,
     "end_time": "2021-10-29T02:58:22.888315",
     "exception": false,
     "start_time": "2021-10-29T02:58:22.814221",
     "status": "completed"
    },
    "tags": []
   },
   "outputs": [
    {
     "data": {
      "text/html": [
       "<div>\n",
       "<style scoped>\n",
       "    .dataframe tbody tr th:only-of-type {\n",
       "        vertical-align: middle;\n",
       "    }\n",
       "\n",
       "    .dataframe tbody tr th {\n",
       "        vertical-align: top;\n",
       "    }\n",
       "\n",
       "    .dataframe thead th {\n",
       "        text-align: right;\n",
       "    }\n",
       "</style>\n",
       "<table border=\"1\" class=\"dataframe\">\n",
       "  <thead>\n",
       "    <tr style=\"text-align: right;\">\n",
       "      <th></th>\n",
       "      <th>InvoiceNo</th>\n",
       "      <th>StockCode</th>\n",
       "      <th>Description</th>\n",
       "      <th>Quantity</th>\n",
       "      <th>InvoiceDate</th>\n",
       "      <th>UnitPrice</th>\n",
       "      <th>CustomerID</th>\n",
       "      <th>Country</th>\n",
       "    </tr>\n",
       "  </thead>\n",
       "  <tbody>\n",
       "    <tr>\n",
       "      <th>1443</th>\n",
       "      <td>536544</td>\n",
       "      <td>21773</td>\n",
       "      <td>DECORATIVE ROSE BATHROOM BOTTLE</td>\n",
       "      <td>1</td>\n",
       "      <td>12/1/2010 14:32</td>\n",
       "      <td>2.51</td>\n",
       "      <td>NaN</td>\n",
       "      <td>United Kingdom</td>\n",
       "    </tr>\n",
       "    <tr>\n",
       "      <th>1444</th>\n",
       "      <td>536544</td>\n",
       "      <td>21774</td>\n",
       "      <td>DECORATIVE CATS BATHROOM BOTTLE</td>\n",
       "      <td>2</td>\n",
       "      <td>12/1/2010 14:32</td>\n",
       "      <td>2.51</td>\n",
       "      <td>NaN</td>\n",
       "      <td>United Kingdom</td>\n",
       "    </tr>\n",
       "    <tr>\n",
       "      <th>1445</th>\n",
       "      <td>536544</td>\n",
       "      <td>21786</td>\n",
       "      <td>POLKADOT RAIN HAT</td>\n",
       "      <td>4</td>\n",
       "      <td>12/1/2010 14:32</td>\n",
       "      <td>0.85</td>\n",
       "      <td>NaN</td>\n",
       "      <td>United Kingdom</td>\n",
       "    </tr>\n",
       "    <tr>\n",
       "      <th>1446</th>\n",
       "      <td>536544</td>\n",
       "      <td>21787</td>\n",
       "      <td>RAIN PONCHO RETROSPOT</td>\n",
       "      <td>2</td>\n",
       "      <td>12/1/2010 14:32</td>\n",
       "      <td>1.66</td>\n",
       "      <td>NaN</td>\n",
       "      <td>United Kingdom</td>\n",
       "    </tr>\n",
       "    <tr>\n",
       "      <th>1447</th>\n",
       "      <td>536544</td>\n",
       "      <td>21790</td>\n",
       "      <td>VINTAGE SNAP CARDS</td>\n",
       "      <td>9</td>\n",
       "      <td>12/1/2010 14:32</td>\n",
       "      <td>1.66</td>\n",
       "      <td>NaN</td>\n",
       "      <td>United Kingdom</td>\n",
       "    </tr>\n",
       "    <tr>\n",
       "      <th>...</th>\n",
       "      <td>...</td>\n",
       "      <td>...</td>\n",
       "      <td>...</td>\n",
       "      <td>...</td>\n",
       "      <td>...</td>\n",
       "      <td>...</td>\n",
       "      <td>...</td>\n",
       "      <td>...</td>\n",
       "    </tr>\n",
       "    <tr>\n",
       "      <th>541536</th>\n",
       "      <td>581498</td>\n",
       "      <td>85099B</td>\n",
       "      <td>JUMBO BAG RED RETROSPOT</td>\n",
       "      <td>5</td>\n",
       "      <td>12/9/2011 10:26</td>\n",
       "      <td>4.13</td>\n",
       "      <td>NaN</td>\n",
       "      <td>United Kingdom</td>\n",
       "    </tr>\n",
       "    <tr>\n",
       "      <th>541537</th>\n",
       "      <td>581498</td>\n",
       "      <td>85099C</td>\n",
       "      <td>JUMBO  BAG BAROQUE BLACK WHITE</td>\n",
       "      <td>4</td>\n",
       "      <td>12/9/2011 10:26</td>\n",
       "      <td>4.13</td>\n",
       "      <td>NaN</td>\n",
       "      <td>United Kingdom</td>\n",
       "    </tr>\n",
       "    <tr>\n",
       "      <th>541538</th>\n",
       "      <td>581498</td>\n",
       "      <td>85150</td>\n",
       "      <td>LADIES &amp; GENTLEMEN METAL SIGN</td>\n",
       "      <td>1</td>\n",
       "      <td>12/9/2011 10:26</td>\n",
       "      <td>4.96</td>\n",
       "      <td>NaN</td>\n",
       "      <td>United Kingdom</td>\n",
       "    </tr>\n",
       "    <tr>\n",
       "      <th>541539</th>\n",
       "      <td>581498</td>\n",
       "      <td>85174</td>\n",
       "      <td>S/4 CACTI CANDLES</td>\n",
       "      <td>1</td>\n",
       "      <td>12/9/2011 10:26</td>\n",
       "      <td>10.79</td>\n",
       "      <td>NaN</td>\n",
       "      <td>United Kingdom</td>\n",
       "    </tr>\n",
       "    <tr>\n",
       "      <th>541540</th>\n",
       "      <td>581498</td>\n",
       "      <td>DOT</td>\n",
       "      <td>DOTCOM POSTAGE</td>\n",
       "      <td>1</td>\n",
       "      <td>12/9/2011 10:26</td>\n",
       "      <td>1714.17</td>\n",
       "      <td>NaN</td>\n",
       "      <td>United Kingdom</td>\n",
       "    </tr>\n",
       "  </tbody>\n",
       "</table>\n",
       "<p>133626 rows × 8 columns</p>\n",
       "</div>"
      ],
      "text/plain": [
       "       InvoiceNo StockCode                      Description  Quantity  \\\n",
       "1443      536544     21773  DECORATIVE ROSE BATHROOM BOTTLE         1   \n",
       "1444      536544     21774  DECORATIVE CATS BATHROOM BOTTLE         2   \n",
       "1445      536544     21786               POLKADOT RAIN HAT          4   \n",
       "1446      536544     21787            RAIN PONCHO RETROSPOT         2   \n",
       "1447      536544     21790               VINTAGE SNAP CARDS         9   \n",
       "...          ...       ...                              ...       ...   \n",
       "541536    581498    85099B          JUMBO BAG RED RETROSPOT         5   \n",
       "541537    581498    85099C   JUMBO  BAG BAROQUE BLACK WHITE         4   \n",
       "541538    581498     85150    LADIES & GENTLEMEN METAL SIGN         1   \n",
       "541539    581498     85174                S/4 CACTI CANDLES         1   \n",
       "541540    581498       DOT                   DOTCOM POSTAGE         1   \n",
       "\n",
       "            InvoiceDate  UnitPrice  CustomerID         Country  \n",
       "1443    12/1/2010 14:32       2.51         NaN  United Kingdom  \n",
       "1444    12/1/2010 14:32       2.51         NaN  United Kingdom  \n",
       "1445    12/1/2010 14:32       0.85         NaN  United Kingdom  \n",
       "1446    12/1/2010 14:32       1.66         NaN  United Kingdom  \n",
       "1447    12/1/2010 14:32       1.66         NaN  United Kingdom  \n",
       "...                 ...        ...         ...             ...  \n",
       "541536  12/9/2011 10:26       4.13         NaN  United Kingdom  \n",
       "541537  12/9/2011 10:26       4.13         NaN  United Kingdom  \n",
       "541538  12/9/2011 10:26       4.96         NaN  United Kingdom  \n",
       "541539  12/9/2011 10:26      10.79         NaN  United Kingdom  \n",
       "541540  12/9/2011 10:26    1714.17         NaN  United Kingdom  \n",
       "\n",
       "[133626 rows x 8 columns]"
      ]
     },
     "execution_count": 9,
     "metadata": {},
     "output_type": "execute_result"
    }
   ],
   "source": [
    "df[df.CustomerID.isnull()]"
   ]
  },
  {
   "cell_type": "markdown",
   "id": "57bbed4f",
   "metadata": {
    "papermill": {
     "duration": 0.040085,
     "end_time": "2021-10-29T02:58:22.967774",
     "exception": false,
     "start_time": "2021-10-29T02:58:22.927689",
     "status": "completed"
    },
    "tags": []
   },
   "source": [
    "At first look, we can see records that have missing customer id, there is no specific characteristics.\n",
    "\n",
    "StockCode contains non-numeric records i.e. DOT. It is a cue for examining stock codes."
   ]
  },
  {
   "cell_type": "code",
   "execution_count": 10,
   "id": "9ddba3a5",
   "metadata": {
    "_kg_hide-input": true,
    "execution": {
     "iopub.execute_input": "2021-10-29T02:58:23.049829Z",
     "iopub.status.busy": "2021-10-29T02:58:23.048922Z",
     "iopub.status.idle": "2021-10-29T02:58:23.097501Z",
     "shell.execute_reply": "2021-10-29T02:58:23.097000Z",
     "shell.execute_reply.started": "2021-10-29T02:42:17.184505Z"
    },
    "papermill": {
     "duration": 0.090646,
     "end_time": "2021-10-29T02:58:23.097637",
     "exception": false,
     "start_time": "2021-10-29T02:58:23.006991",
     "status": "completed"
    },
    "tags": []
   },
   "outputs": [
    {
     "name": "stdout",
     "output_type": "stream",
     "text": [
      "We have 540455 observations.\n",
      "We have 406829 observations after removing unknown customers.\n"
     ]
    }
   ],
   "source": [
    "print(\"We have {} observations.\".format(df.shape[0]))\n",
    "\n",
    "df = df[df.CustomerID.notnull()]\n",
    "\n",
    "print(\"We have {} observations after removing unknown customers.\".format(df.shape[0]))"
   ]
  },
  {
   "cell_type": "code",
   "execution_count": 11,
   "id": "0af8457b",
   "metadata": {
    "execution": {
     "iopub.execute_input": "2021-10-29T02:58:23.180490Z",
     "iopub.status.busy": "2021-10-29T02:58:23.179891Z",
     "iopub.status.idle": "2021-10-29T02:58:23.267245Z",
     "shell.execute_reply": "2021-10-29T02:58:23.267820Z",
     "shell.execute_reply.started": "2021-10-29T02:42:17.234944Z"
    },
    "papermill": {
     "duration": 0.129928,
     "end_time": "2021-10-29T02:58:23.268010",
     "exception": false,
     "start_time": "2021-10-29T02:58:23.138082",
     "status": "completed"
    },
    "tags": []
   },
   "outputs": [
    {
     "data": {
      "text/plain": [
       "InvoiceNo      0\n",
       "StockCode      0\n",
       "Description    0\n",
       "Quantity       0\n",
       "InvoiceDate    0\n",
       "UnitPrice      0\n",
       "CustomerID     0\n",
       "Country        0\n",
       "dtype: int64"
      ]
     },
     "execution_count": 11,
     "metadata": {},
     "output_type": "execute_result"
    }
   ],
   "source": [
    "df.isnull().sum()"
   ]
  },
  {
   "cell_type": "markdown",
   "id": "a91b6119",
   "metadata": {
    "papermill": {
     "duration": 0.039905,
     "end_time": "2021-10-29T02:58:23.348296",
     "exception": false,
     "start_time": "2021-10-29T02:58:23.308391",
     "status": "completed"
    },
    "tags": []
   },
   "source": [
    "We are done with systematically missing values. But lets go deeper."
   ]
  },
  {
   "cell_type": "markdown",
   "id": "3a47e037",
   "metadata": {
    "papermill": {
     "duration": 0.039088,
     "end_time": "2021-10-29T02:58:23.427935",
     "exception": false,
     "start_time": "2021-10-29T02:58:23.388847",
     "status": "completed"
    },
    "tags": []
   },
   "source": [
    "Sometimes, missing values are filled with some denotations. \"NAN\", \"na\", \"?\", \"Unknown\", and so on. Let's check them."
   ]
  },
  {
   "cell_type": "code",
   "execution_count": 12,
   "id": "00f4597c",
   "metadata": {
    "execution": {
     "iopub.execute_input": "2021-10-29T02:58:23.509981Z",
     "iopub.status.busy": "2021-10-29T02:58:23.509361Z",
     "iopub.status.idle": "2021-10-29T02:58:23.670462Z",
     "shell.execute_reply": "2021-10-29T02:58:23.670025Z",
     "shell.execute_reply.started": "2021-10-29T02:42:17.443365Z"
    },
    "papermill": {
     "duration": 0.203182,
     "end_time": "2021-10-29T02:58:23.670628",
     "exception": false,
     "start_time": "2021-10-29T02:58:23.467446",
     "status": "completed"
    },
    "tags": []
   },
   "outputs": [
    {
     "data": {
      "text/html": [
       "<div>\n",
       "<style scoped>\n",
       "    .dataframe tbody tr th:only-of-type {\n",
       "        vertical-align: middle;\n",
       "    }\n",
       "\n",
       "    .dataframe tbody tr th {\n",
       "        vertical-align: top;\n",
       "    }\n",
       "\n",
       "    .dataframe thead th {\n",
       "        text-align: right;\n",
       "    }\n",
       "</style>\n",
       "<table border=\"1\" class=\"dataframe\">\n",
       "  <thead>\n",
       "    <tr style=\"text-align: right;\">\n",
       "      <th></th>\n",
       "      <th>InvoiceNo</th>\n",
       "      <th>StockCode</th>\n",
       "      <th>Description</th>\n",
       "      <th>Quantity</th>\n",
       "      <th>InvoiceDate</th>\n",
       "      <th>UnitPrice</th>\n",
       "      <th>CustomerID</th>\n",
       "      <th>Country</th>\n",
       "    </tr>\n",
       "  </thead>\n",
       "  <tbody>\n",
       "  </tbody>\n",
       "</table>\n",
       "</div>"
      ],
      "text/plain": [
       "Empty DataFrame\n",
       "Columns: [InvoiceNo, StockCode, Description, Quantity, InvoiceDate, UnitPrice, CustomerID, Country]\n",
       "Index: []"
      ]
     },
     "execution_count": 12,
     "metadata": {},
     "output_type": "execute_result"
    }
   ],
   "source": [
    "df[df.Description.str.len() < 5]"
   ]
  },
  {
   "cell_type": "code",
   "execution_count": 13,
   "id": "0eebb04c",
   "metadata": {
    "execution": {
     "iopub.execute_input": "2021-10-29T02:58:23.794913Z",
     "iopub.status.busy": "2021-10-29T02:58:23.776590Z",
     "iopub.status.idle": "2021-10-29T02:58:23.807511Z",
     "shell.execute_reply": "2021-10-29T02:58:23.807041Z",
     "shell.execute_reply.started": "2021-10-29T02:42:17.777164Z"
    },
    "papermill": {
     "duration": 0.096893,
     "end_time": "2021-10-29T02:58:23.807651",
     "exception": false,
     "start_time": "2021-10-29T02:58:23.710758",
     "status": "completed"
    },
    "tags": []
   },
   "outputs": [
    {
     "data": {
      "text/plain": [
       "576339     542\n",
       "579196     533\n",
       "580727     529\n",
       "578270     442\n",
       "573576     435\n",
       "          ... \n",
       "564811       1\n",
       "565591       1\n",
       "541505       1\n",
       "C546645      1\n",
       "578674       1\n",
       "Name: InvoiceNo, Length: 22190, dtype: int64"
      ]
     },
     "execution_count": 13,
     "metadata": {},
     "output_type": "execute_result"
    }
   ],
   "source": [
    "df.InvoiceNo.value_counts()"
   ]
  },
  {
   "cell_type": "markdown",
   "id": "72bf2ea9",
   "metadata": {
    "papermill": {
     "duration": 0.042505,
     "end_time": "2021-10-29T02:58:23.891182",
     "exception": false,
     "start_time": "2021-10-29T02:58:23.848677",
     "status": "completed"
    },
    "tags": []
   },
   "source": [
    "InvoiceNo has coded with 6 digit numeric characters. We can see that some InvoiceNo records starts with the letter C. This means cancellation."
   ]
  },
  {
   "cell_type": "code",
   "execution_count": 14,
   "id": "d8cc9458",
   "metadata": {
    "execution": {
     "iopub.execute_input": "2021-10-29T02:58:23.975357Z",
     "iopub.status.busy": "2021-10-29T02:58:23.974738Z",
     "iopub.status.idle": "2021-10-29T02:58:24.125762Z",
     "shell.execute_reply": "2021-10-29T02:58:24.125184Z",
     "shell.execute_reply.started": "2021-10-29T02:42:17.890775Z"
    },
    "papermill": {
     "duration": 0.194082,
     "end_time": "2021-10-29T02:58:24.125904",
     "exception": false,
     "start_time": "2021-10-29T02:58:23.931822",
     "status": "completed"
    },
    "tags": []
   },
   "outputs": [
    {
     "data": {
      "text/html": [
       "<div>\n",
       "<style scoped>\n",
       "    .dataframe tbody tr th:only-of-type {\n",
       "        vertical-align: middle;\n",
       "    }\n",
       "\n",
       "    .dataframe tbody tr th {\n",
       "        vertical-align: top;\n",
       "    }\n",
       "\n",
       "    .dataframe thead th {\n",
       "        text-align: right;\n",
       "    }\n",
       "</style>\n",
       "<table border=\"1\" class=\"dataframe\">\n",
       "  <thead>\n",
       "    <tr style=\"text-align: right;\">\n",
       "      <th></th>\n",
       "      <th>InvoiceNo</th>\n",
       "      <th>StockCode</th>\n",
       "      <th>Description</th>\n",
       "      <th>Quantity</th>\n",
       "      <th>InvoiceDate</th>\n",
       "      <th>UnitPrice</th>\n",
       "      <th>CustomerID</th>\n",
       "      <th>Country</th>\n",
       "    </tr>\n",
       "  </thead>\n",
       "  <tbody>\n",
       "    <tr>\n",
       "      <th>141</th>\n",
       "      <td>C536379</td>\n",
       "      <td>D</td>\n",
       "      <td>Discount</td>\n",
       "      <td>-1</td>\n",
       "      <td>12/1/2010 9:41</td>\n",
       "      <td>27.50</td>\n",
       "      <td>14527.0</td>\n",
       "      <td>United Kingdom</td>\n",
       "    </tr>\n",
       "    <tr>\n",
       "      <th>154</th>\n",
       "      <td>C536383</td>\n",
       "      <td>35004C</td>\n",
       "      <td>SET OF 3 COLOURED  FLYING DUCKS</td>\n",
       "      <td>-1</td>\n",
       "      <td>12/1/2010 9:49</td>\n",
       "      <td>4.65</td>\n",
       "      <td>15311.0</td>\n",
       "      <td>United Kingdom</td>\n",
       "    </tr>\n",
       "    <tr>\n",
       "      <th>235</th>\n",
       "      <td>C536391</td>\n",
       "      <td>22556</td>\n",
       "      <td>PLASTERS IN TIN CIRCUS PARADE</td>\n",
       "      <td>-12</td>\n",
       "      <td>12/1/2010 10:24</td>\n",
       "      <td>1.65</td>\n",
       "      <td>17548.0</td>\n",
       "      <td>United Kingdom</td>\n",
       "    </tr>\n",
       "    <tr>\n",
       "      <th>236</th>\n",
       "      <td>C536391</td>\n",
       "      <td>21984</td>\n",
       "      <td>PACK OF 12 PINK PAISLEY TISSUES</td>\n",
       "      <td>-24</td>\n",
       "      <td>12/1/2010 10:24</td>\n",
       "      <td>0.29</td>\n",
       "      <td>17548.0</td>\n",
       "      <td>United Kingdom</td>\n",
       "    </tr>\n",
       "    <tr>\n",
       "      <th>237</th>\n",
       "      <td>C536391</td>\n",
       "      <td>21983</td>\n",
       "      <td>PACK OF 12 BLUE PAISLEY TISSUES</td>\n",
       "      <td>-24</td>\n",
       "      <td>12/1/2010 10:24</td>\n",
       "      <td>0.29</td>\n",
       "      <td>17548.0</td>\n",
       "      <td>United Kingdom</td>\n",
       "    </tr>\n",
       "    <tr>\n",
       "      <th>...</th>\n",
       "      <td>...</td>\n",
       "      <td>...</td>\n",
       "      <td>...</td>\n",
       "      <td>...</td>\n",
       "      <td>...</td>\n",
       "      <td>...</td>\n",
       "      <td>...</td>\n",
       "      <td>...</td>\n",
       "    </tr>\n",
       "    <tr>\n",
       "      <th>540449</th>\n",
       "      <td>C581490</td>\n",
       "      <td>23144</td>\n",
       "      <td>ZINC T-LIGHT HOLDER STARS SMALL</td>\n",
       "      <td>-11</td>\n",
       "      <td>12/9/2011 9:57</td>\n",
       "      <td>0.83</td>\n",
       "      <td>14397.0</td>\n",
       "      <td>United Kingdom</td>\n",
       "    </tr>\n",
       "    <tr>\n",
       "      <th>541541</th>\n",
       "      <td>C581499</td>\n",
       "      <td>M</td>\n",
       "      <td>Manual</td>\n",
       "      <td>-1</td>\n",
       "      <td>12/9/2011 10:28</td>\n",
       "      <td>224.69</td>\n",
       "      <td>15498.0</td>\n",
       "      <td>United Kingdom</td>\n",
       "    </tr>\n",
       "    <tr>\n",
       "      <th>541715</th>\n",
       "      <td>C581568</td>\n",
       "      <td>21258</td>\n",
       "      <td>VICTORIAN SEWING BOX LARGE</td>\n",
       "      <td>-5</td>\n",
       "      <td>12/9/2011 11:57</td>\n",
       "      <td>10.95</td>\n",
       "      <td>15311.0</td>\n",
       "      <td>United Kingdom</td>\n",
       "    </tr>\n",
       "    <tr>\n",
       "      <th>541716</th>\n",
       "      <td>C581569</td>\n",
       "      <td>84978</td>\n",
       "      <td>HANGING HEART JAR T-LIGHT HOLDER</td>\n",
       "      <td>-1</td>\n",
       "      <td>12/9/2011 11:58</td>\n",
       "      <td>1.25</td>\n",
       "      <td>17315.0</td>\n",
       "      <td>United Kingdom</td>\n",
       "    </tr>\n",
       "    <tr>\n",
       "      <th>541717</th>\n",
       "      <td>C581569</td>\n",
       "      <td>20979</td>\n",
       "      <td>36 PENCILS TUBE RED RETROSPOT</td>\n",
       "      <td>-5</td>\n",
       "      <td>12/9/2011 11:58</td>\n",
       "      <td>1.25</td>\n",
       "      <td>17315.0</td>\n",
       "      <td>United Kingdom</td>\n",
       "    </tr>\n",
       "  </tbody>\n",
       "</table>\n",
       "<p>8905 rows × 8 columns</p>\n",
       "</div>"
      ],
      "text/plain": [
       "       InvoiceNo StockCode                       Description  Quantity  \\\n",
       "141      C536379         D                          Discount        -1   \n",
       "154      C536383    35004C   SET OF 3 COLOURED  FLYING DUCKS        -1   \n",
       "235      C536391     22556    PLASTERS IN TIN CIRCUS PARADE        -12   \n",
       "236      C536391     21984  PACK OF 12 PINK PAISLEY TISSUES        -24   \n",
       "237      C536391     21983  PACK OF 12 BLUE PAISLEY TISSUES        -24   \n",
       "...          ...       ...                               ...       ...   \n",
       "540449   C581490     23144   ZINC T-LIGHT HOLDER STARS SMALL       -11   \n",
       "541541   C581499         M                            Manual        -1   \n",
       "541715   C581568     21258        VICTORIAN SEWING BOX LARGE        -5   \n",
       "541716   C581569     84978  HANGING HEART JAR T-LIGHT HOLDER        -1   \n",
       "541717   C581569     20979     36 PENCILS TUBE RED RETROSPOT        -5   \n",
       "\n",
       "            InvoiceDate  UnitPrice  CustomerID         Country  \n",
       "141      12/1/2010 9:41      27.50     14527.0  United Kingdom  \n",
       "154      12/1/2010 9:49       4.65     15311.0  United Kingdom  \n",
       "235     12/1/2010 10:24       1.65     17548.0  United Kingdom  \n",
       "236     12/1/2010 10:24       0.29     17548.0  United Kingdom  \n",
       "237     12/1/2010 10:24       0.29     17548.0  United Kingdom  \n",
       "...                 ...        ...         ...             ...  \n",
       "540449   12/9/2011 9:57       0.83     14397.0  United Kingdom  \n",
       "541541  12/9/2011 10:28     224.69     15498.0  United Kingdom  \n",
       "541715  12/9/2011 11:57      10.95     15311.0  United Kingdom  \n",
       "541716  12/9/2011 11:58       1.25     17315.0  United Kingdom  \n",
       "541717  12/9/2011 11:58       1.25     17315.0  United Kingdom  \n",
       "\n",
       "[8905 rows x 8 columns]"
      ]
     },
     "execution_count": 14,
     "metadata": {},
     "output_type": "execute_result"
    }
   ],
   "source": [
    "df[df[\"InvoiceNo\"].str.startswith(\"C\")]"
   ]
  },
  {
   "cell_type": "markdown",
   "id": "f2bddeb9",
   "metadata": {
    "papermill": {
     "duration": 0.040968,
     "end_time": "2021-10-29T02:58:24.208244",
     "exception": false,
     "start_time": "2021-10-29T02:58:24.167276",
     "status": "completed"
    },
    "tags": []
   },
   "source": [
    "Cancelled invoices have negative quantity."
   ]
  },
  {
   "cell_type": "code",
   "execution_count": 15,
   "id": "37ba2395",
   "metadata": {
    "execution": {
     "iopub.execute_input": "2021-10-29T02:58:24.295642Z",
     "iopub.status.busy": "2021-10-29T02:58:24.294953Z",
     "iopub.status.idle": "2021-10-29T02:58:24.456024Z",
     "shell.execute_reply": "2021-10-29T02:58:24.455399Z",
     "shell.execute_reply.started": "2021-10-29T02:42:18.134561Z"
    },
    "papermill": {
     "duration": 0.206826,
     "end_time": "2021-10-29T02:58:24.456154",
     "exception": false,
     "start_time": "2021-10-29T02:58:24.249328",
     "status": "completed"
    },
    "tags": []
   },
   "outputs": [],
   "source": [
    "df[\"Cancelled\"] = df[\"InvoiceNo\"].apply(lambda x: 1 if x.startswith(\"C\") else 0)"
   ]
  },
  {
   "cell_type": "markdown",
   "id": "23317ea9",
   "metadata": {
    "papermill": {
     "duration": 0.041022,
     "end_time": "2021-10-29T02:58:24.538559",
     "exception": false,
     "start_time": "2021-10-29T02:58:24.497537",
     "status": "completed"
    },
    "tags": []
   },
   "source": [
    "Can we have both cancellation record, and record before cancellation. I mean, for example, we have C536379, have we 536379 ?"
   ]
  },
  {
   "cell_type": "code",
   "execution_count": 16,
   "id": "9db68efb",
   "metadata": {
    "execution": {
     "iopub.execute_input": "2021-10-29T02:58:24.626007Z",
     "iopub.status.busy": "2021-10-29T02:58:24.625360Z",
     "iopub.status.idle": "2021-10-29T02:58:24.638793Z",
     "shell.execute_reply": "2021-10-29T02:58:24.639216Z",
     "shell.execute_reply.started": "2021-10-29T02:42:18.421482Z"
    },
    "papermill": {
     "duration": 0.060029,
     "end_time": "2021-10-29T02:58:24.639391",
     "exception": false,
     "start_time": "2021-10-29T02:58:24.579362",
     "status": "completed"
    },
    "tags": []
   },
   "outputs": [
    {
     "data": {
      "text/plain": [
       "['536379', '536383', '536391', '536391', '536391']"
      ]
     },
     "execution_count": 16,
     "metadata": {},
     "output_type": "execute_result"
    }
   ],
   "source": [
    "cancelled_invoiceNo = df[df.Cancelled == 1].InvoiceNo.tolist()\n",
    "cancelled_invoiceNo = [x[1:] for x in cancelled_invoiceNo]\n",
    "\n",
    "cancelled_invoiceNo[:5]"
   ]
  },
  {
   "cell_type": "code",
   "execution_count": 17,
   "id": "597ce9b8",
   "metadata": {
    "execution": {
     "iopub.execute_input": "2021-10-29T02:58:24.726738Z",
     "iopub.status.busy": "2021-10-29T02:58:24.726106Z",
     "iopub.status.idle": "2021-10-29T02:58:24.743431Z",
     "shell.execute_reply": "2021-10-29T02:58:24.743984Z",
     "shell.execute_reply.started": "2021-10-29T02:42:18.441625Z"
    },
    "papermill": {
     "duration": 0.06295,
     "end_time": "2021-10-29T02:58:24.744166",
     "exception": false,
     "start_time": "2021-10-29T02:58:24.681216",
     "status": "completed"
    },
    "tags": []
   },
   "outputs": [
    {
     "data": {
      "text/html": [
       "<div>\n",
       "<style scoped>\n",
       "    .dataframe tbody tr th:only-of-type {\n",
       "        vertical-align: middle;\n",
       "    }\n",
       "\n",
       "    .dataframe tbody tr th {\n",
       "        vertical-align: top;\n",
       "    }\n",
       "\n",
       "    .dataframe thead th {\n",
       "        text-align: right;\n",
       "    }\n",
       "</style>\n",
       "<table border=\"1\" class=\"dataframe\">\n",
       "  <thead>\n",
       "    <tr style=\"text-align: right;\">\n",
       "      <th></th>\n",
       "      <th>InvoiceNo</th>\n",
       "      <th>StockCode</th>\n",
       "      <th>Description</th>\n",
       "      <th>Quantity</th>\n",
       "      <th>InvoiceDate</th>\n",
       "      <th>UnitPrice</th>\n",
       "      <th>CustomerID</th>\n",
       "      <th>Country</th>\n",
       "      <th>Cancelled</th>\n",
       "    </tr>\n",
       "  </thead>\n",
       "  <tbody>\n",
       "  </tbody>\n",
       "</table>\n",
       "</div>"
      ],
      "text/plain": [
       "Empty DataFrame\n",
       "Columns: [InvoiceNo, StockCode, Description, Quantity, InvoiceDate, UnitPrice, CustomerID, Country, Cancelled]\n",
       "Index: []"
      ]
     },
     "execution_count": 17,
     "metadata": {},
     "output_type": "execute_result"
    }
   ],
   "source": [
    "df[df[\"InvoiceNo\"].isin(cancelled_invoiceNo)]"
   ]
  },
  {
   "cell_type": "markdown",
   "id": "496b96be",
   "metadata": {
    "papermill": {
     "duration": 0.041238,
     "end_time": "2021-10-29T02:58:24.827297",
     "exception": false,
     "start_time": "2021-10-29T02:58:24.786059",
     "status": "completed"
    },
    "tags": []
   },
   "source": [
    "Nothing, we have just cancellation."
   ]
  },
  {
   "cell_type": "markdown",
   "id": "dd4bd71d",
   "metadata": {
    "papermill": {
     "duration": 0.041593,
     "end_time": "2021-10-29T02:58:24.910594",
     "exception": false,
     "start_time": "2021-10-29T02:58:24.869001",
     "status": "completed"
    },
    "tags": []
   },
   "source": [
    "Well, maybe we have different pattern about InvoiceNo. Let's check it"
   ]
  },
  {
   "cell_type": "code",
   "execution_count": 18,
   "id": "d2ba554d",
   "metadata": {
    "execution": {
     "iopub.execute_input": "2021-10-29T02:58:24.998341Z",
     "iopub.status.busy": "2021-10-29T02:58:24.997791Z",
     "iopub.status.idle": "2021-10-29T02:58:25.155165Z",
     "shell.execute_reply": "2021-10-29T02:58:25.154695Z",
     "shell.execute_reply.started": "2021-10-29T02:42:18.474369Z"
    },
    "papermill": {
     "duration": 0.202241,
     "end_time": "2021-10-29T02:58:25.155298",
     "exception": false,
     "start_time": "2021-10-29T02:58:24.953057",
     "status": "completed"
    },
    "tags": []
   },
   "outputs": [
    {
     "data": {
      "text/html": [
       "<div>\n",
       "<style scoped>\n",
       "    .dataframe tbody tr th:only-of-type {\n",
       "        vertical-align: middle;\n",
       "    }\n",
       "\n",
       "    .dataframe tbody tr th {\n",
       "        vertical-align: top;\n",
       "    }\n",
       "\n",
       "    .dataframe thead th {\n",
       "        text-align: right;\n",
       "    }\n",
       "</style>\n",
       "<table border=\"1\" class=\"dataframe\">\n",
       "  <thead>\n",
       "    <tr style=\"text-align: right;\">\n",
       "      <th></th>\n",
       "      <th>InvoiceNo</th>\n",
       "      <th>StockCode</th>\n",
       "      <th>Description</th>\n",
       "      <th>Quantity</th>\n",
       "      <th>InvoiceDate</th>\n",
       "      <th>UnitPrice</th>\n",
       "      <th>CustomerID</th>\n",
       "      <th>Country</th>\n",
       "      <th>Cancelled</th>\n",
       "    </tr>\n",
       "  </thead>\n",
       "  <tbody>\n",
       "    <tr>\n",
       "      <th>141</th>\n",
       "      <td>C536379</td>\n",
       "      <td>D</td>\n",
       "      <td>Discount</td>\n",
       "      <td>-1</td>\n",
       "      <td>12/1/2010 9:41</td>\n",
       "      <td>27.50</td>\n",
       "      <td>14527.0</td>\n",
       "      <td>United Kingdom</td>\n",
       "      <td>1</td>\n",
       "    </tr>\n",
       "    <tr>\n",
       "      <th>154</th>\n",
       "      <td>C536383</td>\n",
       "      <td>35004C</td>\n",
       "      <td>SET OF 3 COLOURED  FLYING DUCKS</td>\n",
       "      <td>-1</td>\n",
       "      <td>12/1/2010 9:49</td>\n",
       "      <td>4.65</td>\n",
       "      <td>15311.0</td>\n",
       "      <td>United Kingdom</td>\n",
       "      <td>1</td>\n",
       "    </tr>\n",
       "    <tr>\n",
       "      <th>235</th>\n",
       "      <td>C536391</td>\n",
       "      <td>22556</td>\n",
       "      <td>PLASTERS IN TIN CIRCUS PARADE</td>\n",
       "      <td>-12</td>\n",
       "      <td>12/1/2010 10:24</td>\n",
       "      <td>1.65</td>\n",
       "      <td>17548.0</td>\n",
       "      <td>United Kingdom</td>\n",
       "      <td>1</td>\n",
       "    </tr>\n",
       "    <tr>\n",
       "      <th>236</th>\n",
       "      <td>C536391</td>\n",
       "      <td>21984</td>\n",
       "      <td>PACK OF 12 PINK PAISLEY TISSUES</td>\n",
       "      <td>-24</td>\n",
       "      <td>12/1/2010 10:24</td>\n",
       "      <td>0.29</td>\n",
       "      <td>17548.0</td>\n",
       "      <td>United Kingdom</td>\n",
       "      <td>1</td>\n",
       "    </tr>\n",
       "    <tr>\n",
       "      <th>237</th>\n",
       "      <td>C536391</td>\n",
       "      <td>21983</td>\n",
       "      <td>PACK OF 12 BLUE PAISLEY TISSUES</td>\n",
       "      <td>-24</td>\n",
       "      <td>12/1/2010 10:24</td>\n",
       "      <td>0.29</td>\n",
       "      <td>17548.0</td>\n",
       "      <td>United Kingdom</td>\n",
       "      <td>1</td>\n",
       "    </tr>\n",
       "    <tr>\n",
       "      <th>...</th>\n",
       "      <td>...</td>\n",
       "      <td>...</td>\n",
       "      <td>...</td>\n",
       "      <td>...</td>\n",
       "      <td>...</td>\n",
       "      <td>...</td>\n",
       "      <td>...</td>\n",
       "      <td>...</td>\n",
       "      <td>...</td>\n",
       "    </tr>\n",
       "    <tr>\n",
       "      <th>540449</th>\n",
       "      <td>C581490</td>\n",
       "      <td>23144</td>\n",
       "      <td>ZINC T-LIGHT HOLDER STARS SMALL</td>\n",
       "      <td>-11</td>\n",
       "      <td>12/9/2011 9:57</td>\n",
       "      <td>0.83</td>\n",
       "      <td>14397.0</td>\n",
       "      <td>United Kingdom</td>\n",
       "      <td>1</td>\n",
       "    </tr>\n",
       "    <tr>\n",
       "      <th>541541</th>\n",
       "      <td>C581499</td>\n",
       "      <td>M</td>\n",
       "      <td>Manual</td>\n",
       "      <td>-1</td>\n",
       "      <td>12/9/2011 10:28</td>\n",
       "      <td>224.69</td>\n",
       "      <td>15498.0</td>\n",
       "      <td>United Kingdom</td>\n",
       "      <td>1</td>\n",
       "    </tr>\n",
       "    <tr>\n",
       "      <th>541715</th>\n",
       "      <td>C581568</td>\n",
       "      <td>21258</td>\n",
       "      <td>VICTORIAN SEWING BOX LARGE</td>\n",
       "      <td>-5</td>\n",
       "      <td>12/9/2011 11:57</td>\n",
       "      <td>10.95</td>\n",
       "      <td>15311.0</td>\n",
       "      <td>United Kingdom</td>\n",
       "      <td>1</td>\n",
       "    </tr>\n",
       "    <tr>\n",
       "      <th>541716</th>\n",
       "      <td>C581569</td>\n",
       "      <td>84978</td>\n",
       "      <td>HANGING HEART JAR T-LIGHT HOLDER</td>\n",
       "      <td>-1</td>\n",
       "      <td>12/9/2011 11:58</td>\n",
       "      <td>1.25</td>\n",
       "      <td>17315.0</td>\n",
       "      <td>United Kingdom</td>\n",
       "      <td>1</td>\n",
       "    </tr>\n",
       "    <tr>\n",
       "      <th>541717</th>\n",
       "      <td>C581569</td>\n",
       "      <td>20979</td>\n",
       "      <td>36 PENCILS TUBE RED RETROSPOT</td>\n",
       "      <td>-5</td>\n",
       "      <td>12/9/2011 11:58</td>\n",
       "      <td>1.25</td>\n",
       "      <td>17315.0</td>\n",
       "      <td>United Kingdom</td>\n",
       "      <td>1</td>\n",
       "    </tr>\n",
       "  </tbody>\n",
       "</table>\n",
       "<p>8905 rows × 9 columns</p>\n",
       "</div>"
      ],
      "text/plain": [
       "       InvoiceNo StockCode                       Description  Quantity  \\\n",
       "141      C536379         D                          Discount        -1   \n",
       "154      C536383    35004C   SET OF 3 COLOURED  FLYING DUCKS        -1   \n",
       "235      C536391     22556    PLASTERS IN TIN CIRCUS PARADE        -12   \n",
       "236      C536391     21984  PACK OF 12 PINK PAISLEY TISSUES        -24   \n",
       "237      C536391     21983  PACK OF 12 BLUE PAISLEY TISSUES        -24   \n",
       "...          ...       ...                               ...       ...   \n",
       "540449   C581490     23144   ZINC T-LIGHT HOLDER STARS SMALL       -11   \n",
       "541541   C581499         M                            Manual        -1   \n",
       "541715   C581568     21258        VICTORIAN SEWING BOX LARGE        -5   \n",
       "541716   C581569     84978  HANGING HEART JAR T-LIGHT HOLDER        -1   \n",
       "541717   C581569     20979     36 PENCILS TUBE RED RETROSPOT        -5   \n",
       "\n",
       "            InvoiceDate  UnitPrice  CustomerID         Country  Cancelled  \n",
       "141      12/1/2010 9:41      27.50     14527.0  United Kingdom          1  \n",
       "154      12/1/2010 9:49       4.65     15311.0  United Kingdom          1  \n",
       "235     12/1/2010 10:24       1.65     17548.0  United Kingdom          1  \n",
       "236     12/1/2010 10:24       0.29     17548.0  United Kingdom          1  \n",
       "237     12/1/2010 10:24       0.29     17548.0  United Kingdom          1  \n",
       "...                 ...        ...         ...             ...        ...  \n",
       "540449   12/9/2011 9:57       0.83     14397.0  United Kingdom          1  \n",
       "541541  12/9/2011 10:28     224.69     15498.0  United Kingdom          1  \n",
       "541715  12/9/2011 11:57      10.95     15311.0  United Kingdom          1  \n",
       "541716  12/9/2011 11:58       1.25     17315.0  United Kingdom          1  \n",
       "541717  12/9/2011 11:58       1.25     17315.0  United Kingdom          1  \n",
       "\n",
       "[8905 rows x 9 columns]"
      ]
     },
     "execution_count": 18,
     "metadata": {},
     "output_type": "execute_result"
    }
   ],
   "source": [
    "df[df.InvoiceNo.str.len() != 6]"
   ]
  },
  {
   "cell_type": "markdown",
   "id": "b1419836",
   "metadata": {
    "papermill": {
     "duration": 0.041824,
     "end_time": "2021-10-29T02:58:25.239441",
     "exception": false,
     "start_time": "2021-10-29T02:58:25.197617",
     "status": "completed"
    },
    "tags": []
   },
   "source": [
    "No, we only have proper invoices and cancellations for InvoiceNo. We don't have any different pattern."
   ]
  },
  {
   "cell_type": "code",
   "execution_count": 19,
   "id": "b897f784",
   "metadata": {
    "execution": {
     "iopub.execute_input": "2021-10-29T02:58:25.331539Z",
     "iopub.status.busy": "2021-10-29T02:58:25.330854Z",
     "iopub.status.idle": "2021-10-29T02:58:25.361810Z",
     "shell.execute_reply": "2021-10-29T02:58:25.362271Z",
     "shell.execute_reply.started": "2021-10-29T02:42:18.782675Z"
    },
    "papermill": {
     "duration": 0.079066,
     "end_time": "2021-10-29T02:58:25.362440",
     "exception": false,
     "start_time": "2021-10-29T02:58:25.283374",
     "status": "completed"
    },
    "tags": []
   },
   "outputs": [],
   "source": [
    "df = df[df.Cancelled == 0]"
   ]
  },
  {
   "cell_type": "markdown",
   "id": "946a68c1",
   "metadata": {
    "papermill": {
     "duration": 0.045462,
     "end_time": "2021-10-29T02:58:25.450686",
     "exception": false,
     "start_time": "2021-10-29T02:58:25.405224",
     "status": "completed"
    },
    "tags": []
   },
   "source": [
    "Stock Codes generally contains 5 digit numerical codes."
   ]
  },
  {
   "cell_type": "code",
   "execution_count": 20,
   "id": "db83ad7a",
   "metadata": {
    "execution": {
     "iopub.execute_input": "2021-10-29T02:58:25.546623Z",
     "iopub.status.busy": "2021-10-29T02:58:25.546045Z",
     "iopub.status.idle": "2021-10-29T02:58:25.763742Z",
     "shell.execute_reply": "2021-10-29T02:58:25.764155Z",
     "shell.execute_reply.started": "2021-10-29T02:42:18.82082Z"
    },
    "papermill": {
     "duration": 0.264501,
     "end_time": "2021-10-29T02:58:25.764324",
     "exception": false,
     "start_time": "2021-10-29T02:58:25.499823",
     "status": "completed"
    },
    "tags": []
   },
   "outputs": [
    {
     "data": {
      "text/plain": [
       "POST            1099\n",
       "M                290\n",
       "C2               133\n",
       "DOT               16\n",
       "BANK CHARGES      12\n",
       "PADS               4\n",
       "Name: StockCode, dtype: int64"
      ]
     },
     "execution_count": 20,
     "metadata": {},
     "output_type": "execute_result"
    }
   ],
   "source": [
    "df[df.StockCode.str.contains(\"^[a-zA-Z]\")].StockCode.value_counts()"
   ]
  },
  {
   "cell_type": "code",
   "execution_count": 21,
   "id": "46aedf0c",
   "metadata": {
    "execution": {
     "iopub.execute_input": "2021-10-29T02:58:25.854409Z",
     "iopub.status.busy": "2021-10-29T02:58:25.853500Z",
     "iopub.status.idle": "2021-10-29T02:58:26.050022Z",
     "shell.execute_reply": "2021-10-29T02:58:26.049461Z",
     "shell.execute_reply.started": "2021-10-29T02:42:19.166468Z"
    },
    "papermill": {
     "duration": 0.242296,
     "end_time": "2021-10-29T02:58:26.050159",
     "exception": false,
     "start_time": "2021-10-29T02:58:25.807863",
     "status": "completed"
    },
    "tags": []
   },
   "outputs": [
    {
     "data": {
      "text/plain": [
       "POSTAGE                       1099\n",
       "Manual                         290\n",
       "CARRIAGE                       133\n",
       "DOTCOM POSTAGE                  16\n",
       "Bank Charges                    12\n",
       "PADS TO MATCH ALL CUSHIONS       4\n",
       "Name: Description, dtype: int64"
      ]
     },
     "execution_count": 21,
     "metadata": {},
     "output_type": "execute_result"
    }
   ],
   "source": [
    "df[df.StockCode.str.contains(\"^[a-zA-Z]\")].Description.value_counts()"
   ]
  },
  {
   "cell_type": "markdown",
   "id": "d0c54120",
   "metadata": {
    "papermill": {
     "duration": 0.042732,
     "end_time": "2021-10-29T02:58:26.135642",
     "exception": false,
     "start_time": "2021-10-29T02:58:26.092910",
     "status": "completed"
    },
    "tags": []
   },
   "source": [
    "It looks like data contains more than customer transactions. I will drop them."
   ]
  },
  {
   "cell_type": "code",
   "execution_count": 22,
   "id": "ad2995d2",
   "metadata": {
    "execution": {
     "iopub.execute_input": "2021-10-29T02:58:26.241866Z",
     "iopub.status.busy": "2021-10-29T02:58:26.240981Z",
     "iopub.status.idle": "2021-10-29T02:58:26.352206Z",
     "shell.execute_reply": "2021-10-29T02:58:26.351719Z",
     "shell.execute_reply.started": "2021-10-29T02:42:19.470279Z"
    },
    "papermill": {
     "duration": 0.173827,
     "end_time": "2021-10-29T02:58:26.352357",
     "exception": false,
     "start_time": "2021-10-29T02:58:26.178530",
     "status": "completed"
    },
    "tags": []
   },
   "outputs": [
    {
     "data": {
      "text/plain": [
       "85123A    2035\n",
       "85099B    1618\n",
       "82494L     820\n",
       "85099F     664\n",
       "85099C     659\n",
       "          ... \n",
       "35597B       1\n",
       "35610B       1\n",
       "90187B       1\n",
       "90141E       1\n",
       "17028J       1\n",
       "Name: StockCode, Length: 875, dtype: int64"
      ]
     },
     "execution_count": 22,
     "metadata": {},
     "output_type": "execute_result"
    }
   ],
   "source": [
    "df[df.StockCode.str.len() > 5].StockCode.value_counts()"
   ]
  },
  {
   "cell_type": "code",
   "execution_count": 23,
   "id": "5a93abcf",
   "metadata": {
    "execution": {
     "iopub.execute_input": "2021-10-29T02:58:26.457939Z",
     "iopub.status.busy": "2021-10-29T02:58:26.457249Z",
     "iopub.status.idle": "2021-10-29T02:58:26.566364Z",
     "shell.execute_reply": "2021-10-29T02:58:26.566835Z",
     "shell.execute_reply.started": "2021-10-29T02:42:19.722327Z"
    },
    "papermill": {
     "duration": 0.171722,
     "end_time": "2021-10-29T02:58:26.567011",
     "exception": false,
     "start_time": "2021-10-29T02:58:26.395289",
     "status": "completed"
    },
    "tags": []
   },
   "outputs": [
    {
     "data": {
      "text/plain": [
       "WHITE HANGING HEART T-LIGHT HOLDER    2028\n",
       "JUMBO BAG RED RETROSPOT               1618\n",
       "WOODEN FRAME ANTIQUE WHITE             820\n",
       "JUMBO BAG STRAWBERRY                   664\n",
       "JUMBO  BAG BAROQUE BLACK WHITE         659\n",
       "                                      ... \n",
       "ACRYLIC JEWEL SNOWFLAKE,PINK             1\n",
       "5 STRAND GLASS NECKLACE AMETHYST         1\n",
       "PINK ROUND COMPACT MIRROR                1\n",
       "BLUE LEAVES AND BEADS PHONE CHARM        1\n",
       "LETTER \"Z\" BLING KEY RING                1\n",
       "Name: Description, Length: 887, dtype: int64"
      ]
     },
     "execution_count": 23,
     "metadata": {},
     "output_type": "execute_result"
    }
   ],
   "source": [
    "df[df.StockCode.str.len() > 5].Description.value_counts()"
   ]
  },
  {
   "cell_type": "markdown",
   "id": "c79af63e",
   "metadata": {
    "papermill": {
     "duration": 0.042923,
     "end_time": "2021-10-29T02:58:26.653129",
     "exception": false,
     "start_time": "2021-10-29T02:58:26.610206",
     "status": "completed"
    },
    "tags": []
   },
   "source": [
    "Some stock codes have a letter at the end of their codes. I don't know what they refers, so I will keep them."
   ]
  },
  {
   "cell_type": "code",
   "execution_count": 24,
   "id": "b05fda94",
   "metadata": {
    "execution": {
     "iopub.execute_input": "2021-10-29T02:58:26.741844Z",
     "iopub.status.busy": "2021-10-29T02:58:26.741229Z",
     "iopub.status.idle": "2021-10-29T02:58:26.962007Z",
     "shell.execute_reply": "2021-10-29T02:58:26.961358Z",
     "shell.execute_reply.started": "2021-10-29T02:42:19.971951Z"
    },
    "papermill": {
     "duration": 0.266171,
     "end_time": "2021-10-29T02:58:26.962141",
     "exception": false,
     "start_time": "2021-10-29T02:58:26.695970",
     "status": "completed"
    },
    "tags": []
   },
   "outputs": [],
   "source": [
    "df =  df[~ df.StockCode.str.contains(\"^[a-zA-Z]\")]"
   ]
  },
  {
   "cell_type": "code",
   "execution_count": 25,
   "id": "ed41a17c",
   "metadata": {
    "execution": {
     "iopub.execute_input": "2021-10-29T02:58:27.069616Z",
     "iopub.status.busy": "2021-10-29T02:58:27.068903Z",
     "iopub.status.idle": "2021-10-29T02:58:27.189223Z",
     "shell.execute_reply": "2021-10-29T02:58:27.188759Z",
     "shell.execute_reply.started": "2021-10-29T02:42:20.294154Z"
    },
    "papermill": {
     "duration": 0.182629,
     "end_time": "2021-10-29T02:58:27.189375",
     "exception": false,
     "start_time": "2021-10-29T02:58:27.006746",
     "status": "completed"
    },
    "tags": []
   },
   "outputs": [],
   "source": [
    "df[\"Description\"] = df[\"Description\"].str.lower()"
   ]
  },
  {
   "cell_type": "markdown",
   "id": "0cb9ba83",
   "metadata": {
    "papermill": {
     "duration": 0.042841,
     "end_time": "2021-10-29T02:58:27.275129",
     "exception": false,
     "start_time": "2021-10-29T02:58:27.232288",
     "status": "completed"
    },
    "tags": []
   },
   "source": [
    "I just standardize descriptions with converting them to all lowercase characters."
   ]
  },
  {
   "cell_type": "markdown",
   "id": "2dada366",
   "metadata": {
    "papermill": {
     "duration": 0.043536,
     "end_time": "2021-10-29T02:58:27.362200",
     "exception": false,
     "start_time": "2021-10-29T02:58:27.318664",
     "status": "completed"
    },
    "tags": []
   },
   "source": [
    "Stock Codes - Description"
   ]
  },
  {
   "cell_type": "code",
   "execution_count": 26,
   "id": "94ab6336",
   "metadata": {
    "execution": {
     "iopub.execute_input": "2021-10-29T02:58:27.451460Z",
     "iopub.status.busy": "2021-10-29T02:58:27.450926Z",
     "iopub.status.idle": "2021-10-29T02:58:27.734181Z",
     "shell.execute_reply": "2021-10-29T02:58:27.733702Z",
     "shell.execute_reply.started": "2021-10-29T02:42:20.519438Z"
    },
    "papermill": {
     "duration": 0.328482,
     "end_time": "2021-10-29T02:58:27.734321",
     "exception": false,
     "start_time": "2021-10-29T02:58:27.405839",
     "status": "completed"
    },
    "tags": []
   },
   "outputs": [
    {
     "data": {
      "text/plain": [
       "StockCode\n",
       "16156L    2\n",
       "17107D    3\n",
       "20622     2\n",
       "20725     2\n",
       "20914     2\n",
       "         ..\n",
       "85184C    2\n",
       "85185B    2\n",
       "90014A    2\n",
       "90014B    2\n",
       "90014C    2\n",
       "Name: Description, Length: 213, dtype: int64"
      ]
     },
     "execution_count": 26,
     "metadata": {},
     "output_type": "execute_result"
    }
   ],
   "source": [
    "df.groupby(\"StockCode\")[\"Description\"].nunique()[df.groupby(\"StockCode\")[\"Description\"].nunique() != 1]"
   ]
  },
  {
   "cell_type": "markdown",
   "id": "79084873",
   "metadata": {
    "papermill": {
     "duration": 0.04291,
     "end_time": "2021-10-29T02:58:27.820173",
     "exception": false,
     "start_time": "2021-10-29T02:58:27.777263",
     "status": "completed"
    },
    "tags": []
   },
   "source": [
    "213 Stock codes have more than one description. Let's check some of them."
   ]
  },
  {
   "cell_type": "code",
   "execution_count": 27,
   "id": "6ca893f6",
   "metadata": {
    "execution": {
     "iopub.execute_input": "2021-10-29T02:58:27.932854Z",
     "iopub.status.busy": "2021-10-29T02:58:27.932179Z",
     "iopub.status.idle": "2021-10-29T02:58:27.938379Z",
     "shell.execute_reply": "2021-10-29T02:58:27.938805Z",
     "shell.execute_reply.started": "2021-10-29T02:42:20.838438Z"
    },
    "papermill": {
     "duration": 0.075597,
     "end_time": "2021-10-29T02:58:27.938985",
     "exception": false,
     "start_time": "2021-10-29T02:58:27.863388",
     "status": "completed"
    },
    "tags": []
   },
   "outputs": [
    {
     "data": {
      "text/plain": [
       "wrap carousel     14\n",
       "wrap, carousel     4\n",
       "Name: Description, dtype: int64"
      ]
     },
     "execution_count": 27,
     "metadata": {},
     "output_type": "execute_result"
    }
   ],
   "source": [
    "df[df.StockCode == \"16156L\"].Description.value_counts()"
   ]
  },
  {
   "cell_type": "code",
   "execution_count": 28,
   "id": "a39fa08e",
   "metadata": {
    "execution": {
     "iopub.execute_input": "2021-10-29T02:58:28.031350Z",
     "iopub.status.busy": "2021-10-29T02:58:28.030761Z",
     "iopub.status.idle": "2021-10-29T02:58:28.060514Z",
     "shell.execute_reply": "2021-10-29T02:58:28.061007Z",
     "shell.execute_reply.started": "2021-10-29T02:42:20.906303Z"
    },
    "papermill": {
     "duration": 0.078064,
     "end_time": "2021-10-29T02:58:28.061170",
     "exception": false,
     "start_time": "2021-10-29T02:58:27.983106",
     "status": "completed"
    },
    "tags": []
   },
   "outputs": [
    {
     "data": {
      "text/plain": [
       "flower fairy,5 summer b'draw liners    25\n",
       "flower fairy 5 drawer liners           21\n",
       "flower fairy 5 summer draw liners       1\n",
       "Name: Description, dtype: int64"
      ]
     },
     "execution_count": 28,
     "metadata": {},
     "output_type": "execute_result"
    }
   ],
   "source": [
    "df[df.StockCode == \"17107D\"].Description.value_counts()"
   ]
  },
  {
   "cell_type": "code",
   "execution_count": 29,
   "id": "2869ac0c",
   "metadata": {
    "execution": {
     "iopub.execute_input": "2021-10-29T02:58:28.152527Z",
     "iopub.status.busy": "2021-10-29T02:58:28.151967Z",
     "iopub.status.idle": "2021-10-29T02:58:28.181036Z",
     "shell.execute_reply": "2021-10-29T02:58:28.181527Z",
     "shell.execute_reply.started": "2021-10-29T02:42:20.972882Z"
    },
    "papermill": {
     "duration": 0.07656,
     "end_time": "2021-10-29T02:58:28.181704",
     "exception": false,
     "start_time": "2021-10-29T02:58:28.105144",
     "status": "completed"
    },
    "tags": []
   },
   "outputs": [
    {
     "data": {
      "text/plain": [
       "silver/black orbit necklace        2\n",
       "silver and black orbit necklace    1\n",
       "Name: Description, dtype: int64"
      ]
     },
     "execution_count": 29,
     "metadata": {},
     "output_type": "execute_result"
    }
   ],
   "source": [
    "df[df.StockCode == \"90014C\"].Description.value_counts()"
   ]
  },
  {
   "cell_type": "markdown",
   "id": "a49806da",
   "metadata": {
    "papermill": {
     "duration": 0.045383,
     "end_time": "2021-10-29T02:58:28.272682",
     "exception": false,
     "start_time": "2021-10-29T02:58:28.227299",
     "status": "completed"
    },
    "tags": []
   },
   "source": [
    "Seems we have just a litle differences between them, i.e. \",\" or \"/\""
   ]
  },
  {
   "cell_type": "code",
   "execution_count": 30,
   "id": "c1c62af6",
   "metadata": {
    "_kg_hide-output": true,
    "execution": {
     "iopub.execute_input": "2021-10-29T02:58:28.367986Z",
     "iopub.status.busy": "2021-10-29T02:58:28.367289Z",
     "iopub.status.idle": "2021-10-29T02:58:28.383082Z",
     "shell.execute_reply": "2021-10-29T02:58:28.382445Z",
     "shell.execute_reply.started": "2021-10-29T02:42:21.046543Z"
    },
    "papermill": {
     "duration": 0.063762,
     "end_time": "2021-10-29T02:58:28.383218",
     "exception": false,
     "start_time": "2021-10-29T02:58:28.319456",
     "status": "completed"
    },
    "tags": []
   },
   "outputs": [
    {
     "data": {
      "text/plain": [
       "17841.0    7838\n",
       "14911.0    5591\n",
       "14096.0    5095\n",
       "12748.0    4580\n",
       "14606.0    2697\n",
       "           ... \n",
       "15562.0       1\n",
       "17956.0       1\n",
       "16454.0       1\n",
       "13391.0       1\n",
       "17443.0       1\n",
       "Name: CustomerID, Length: 4335, dtype: int64"
      ]
     },
     "execution_count": 30,
     "metadata": {},
     "output_type": "execute_result"
    }
   ],
   "source": [
    "df.CustomerID.value_counts()"
   ]
  },
  {
   "cell_type": "code",
   "execution_count": 31,
   "id": "a8f74c92",
   "metadata": {
    "_kg_hide-input": true,
    "execution": {
     "iopub.execute_input": "2021-10-29T02:58:28.481090Z",
     "iopub.status.busy": "2021-10-29T02:58:28.480401Z",
     "iopub.status.idle": "2021-10-29T02:58:28.946127Z",
     "shell.execute_reply": "2021-10-29T02:58:28.946578Z",
     "shell.execute_reply.started": "2021-10-29T02:42:21.068947Z"
    },
    "papermill": {
     "duration": 0.518865,
     "end_time": "2021-10-29T02:58:28.946757",
     "exception": false,
     "start_time": "2021-10-29T02:58:28.427892",
     "status": "completed"
    },
    "tags": []
   },
   "outputs": [
    {
     "data": {
      "image/png": "[encoded data removed]",
      "text/plain": [
       "<Figure size 720x576 with 1 Axes>"
      ]
     },
     "metadata": {},
     "output_type": "display_data"
    }
   ],
   "source": [
    "customer_counts = df.CustomerID.value_counts().sort_values(ascending=False).head(25)\n",
    "\n",
    "fig, ax = plt.subplots(figsize = (10, 8))\n",
    "\n",
    "sns.barplot(y = customer_counts.index, x = customer_counts.values, orient = \"h\", \n",
    "            ax = ax, order = customer_counts.index, palette = \"Reds_r\")\n",
    "\n",
    "plt.title(\"Customers that have most transactions\")\n",
    "plt.ylabel(\"Customers\")\n",
    "plt.xlabel(\"Transaction Count\")\n",
    "\n",
    "plt.show()"
   ]
  },
  {
   "cell_type": "code",
   "execution_count": 32,
   "id": "2e518f00",
   "metadata": {
    "_kg_hide-output": true,
    "execution": {
     "iopub.execute_input": "2021-10-29T02:58:29.044139Z",
     "iopub.status.busy": "2021-10-29T02:58:29.043568Z",
     "iopub.status.idle": "2021-10-29T02:58:29.088100Z",
     "shell.execute_reply": "2021-10-29T02:58:29.087467Z",
     "shell.execute_reply.started": "2021-10-29T02:42:21.589789Z"
    },
    "papermill": {
     "duration": 0.0949,
     "end_time": "2021-10-29T02:58:29.088235",
     "exception": false,
     "start_time": "2021-10-29T02:58:28.993335",
     "status": "completed"
    },
    "tags": []
   },
   "outputs": [
    {
     "data": {
      "text/plain": [
       "United Kingdom          354005\n",
       "Germany                   8659\n",
       "France                    8034\n",
       "EIRE                      7138\n",
       "Spain                     2423\n",
       "Netherlands               2326\n",
       "Belgium                   1935\n",
       "Switzerland               1811\n",
       "Portugal                  1425\n",
       "Australia                 1184\n",
       "Norway                    1049\n",
       "Channel Islands            744\n",
       "Italy                      741\n",
       "Finland                    647\n",
       "Cyprus                     612\n",
       "Sweden                     428\n",
       "Austria                    384\n",
       "Denmark                    367\n",
       "Poland                     325\n",
       "Japan                      321\n",
       "Israel                     248\n",
       "Unspecified                244\n",
       "Singapore                  215\n",
       "Iceland                    182\n",
       "USA                        179\n",
       "Canada                     150\n",
       "Greece                     142\n",
       "Malta                      109\n",
       "United Arab Emirates        67\n",
       "RSA                         57\n",
       "European Community          57\n",
       "Lebanon                     45\n",
       "Lithuania                   35\n",
       "Brazil                      32\n",
       "Czech Republic              24\n",
       "Bahrain                     17\n",
       "Saudi Arabia                 9\n",
       "Name: Country, dtype: int64"
      ]
     },
     "execution_count": 32,
     "metadata": {},
     "output_type": "execute_result"
    }
   ],
   "source": [
    "df.Country.value_counts()"
   ]
  },
  {
   "cell_type": "code",
   "execution_count": 33,
   "id": "d617f96b",
   "metadata": {
    "_kg_hide-input": true,
    "execution": {
     "iopub.execute_input": "2021-10-29T02:58:29.222416Z",
     "iopub.status.busy": "2021-10-29T02:58:29.221813Z",
     "iopub.status.idle": "2021-10-29T02:58:29.849771Z",
     "shell.execute_reply": "2021-10-29T02:58:29.849236Z",
     "shell.execute_reply.started": "2021-10-29T02:42:21.696944Z"
    },
    "papermill": {
     "duration": 0.715002,
     "end_time": "2021-10-29T02:58:29.849916",
     "exception": false,
     "start_time": "2021-10-29T02:58:29.134914",
     "status": "completed"
    },
    "tags": []
   },
   "outputs": [
    {
     "data": {
      "image/png": "[encoded data removed]",
      "text/plain": [
       "<Figure size 1296x720 with 1 Axes>"
      ]
     },
     "metadata": {},
     "output_type": "display_data"
    }
   ],
   "source": [
    "country_counts = df.Country.value_counts().sort_values(ascending=False).head(25)\n",
    "\n",
    "fig, ax = plt.subplots(figsize = (18, 10))\n",
    "\n",
    "sns.barplot(x = country_counts.values, y = country_counts.index, orient = \"h\", \n",
    "            ax = ax, order = country_counts.index, palette = \"Blues_r\")\n",
    "plt.title(\"Countries that have most transactions\")\n",
    "plt.xscale(\"log\")\n",
    "plt.show()"
   ]
  },
  {
   "cell_type": "code",
   "execution_count": 34,
   "id": "15eacaf7",
   "metadata": {
    "execution": {
     "iopub.execute_input": "2021-10-29T02:58:29.948310Z",
     "iopub.status.busy": "2021-10-29T02:58:29.947368Z",
     "iopub.status.idle": "2021-10-29T02:58:29.971813Z",
     "shell.execute_reply": "2021-10-29T02:58:29.972235Z",
     "shell.execute_reply.started": "2021-10-29T02:42:22.542211Z"
    },
    "papermill": {
     "duration": 0.074714,
     "end_time": "2021-10-29T02:58:29.972413",
     "exception": false,
     "start_time": "2021-10-29T02:58:29.897699",
     "status": "completed"
    },
    "tags": []
   },
   "outputs": [
    {
     "data": {
      "text/plain": [
       "count    396370.000000\n",
       "mean          2.867983\n",
       "std           4.264566\n",
       "min           0.000000\n",
       "25%           1.250000\n",
       "50%           1.950000\n",
       "75%           3.750000\n",
       "max         649.500000\n",
       "Name: UnitPrice, dtype: float64"
      ]
     },
     "execution_count": 34,
     "metadata": {},
     "output_type": "execute_result"
    }
   ],
   "source": [
    "df[\"UnitPrice\"].describe()"
   ]
  },
  {
   "cell_type": "markdown",
   "id": "aa7006a9",
   "metadata": {
    "papermill": {
     "duration": 0.048035,
     "end_time": "2021-10-29T02:58:30.067698",
     "exception": false,
     "start_time": "2021-10-29T02:58:30.019663",
     "status": "completed"
    },
    "tags": []
   },
   "source": [
    "0 unit price?"
   ]
  },
  {
   "cell_type": "code",
   "execution_count": 35,
   "id": "d7bf705e",
   "metadata": {
    "execution": {
     "iopub.execute_input": "2021-10-29T02:58:30.167643Z",
     "iopub.status.busy": "2021-10-29T02:58:30.167024Z",
     "iopub.status.idle": "2021-10-29T02:58:30.180193Z",
     "shell.execute_reply": "2021-10-29T02:58:30.180630Z",
     "shell.execute_reply.started": "2021-10-29T02:42:22.570087Z"
    },
    "papermill": {
     "duration": 0.065219,
     "end_time": "2021-10-29T02:58:30.180792",
     "exception": false,
     "start_time": "2021-10-29T02:58:30.115573",
     "status": "completed"
    },
    "tags": []
   },
   "outputs": [
    {
     "data": {
      "text/html": [
       "<div>\n",
       "<style scoped>\n",
       "    .dataframe tbody tr th:only-of-type {\n",
       "        vertical-align: middle;\n",
       "    }\n",
       "\n",
       "    .dataframe tbody tr th {\n",
       "        vertical-align: top;\n",
       "    }\n",
       "\n",
       "    .dataframe thead th {\n",
       "        text-align: right;\n",
       "    }\n",
       "</style>\n",
       "<table border=\"1\" class=\"dataframe\">\n",
       "  <thead>\n",
       "    <tr style=\"text-align: right;\">\n",
       "      <th></th>\n",
       "      <th>InvoiceNo</th>\n",
       "      <th>StockCode</th>\n",
       "      <th>Description</th>\n",
       "      <th>Quantity</th>\n",
       "      <th>InvoiceDate</th>\n",
       "      <th>UnitPrice</th>\n",
       "      <th>CustomerID</th>\n",
       "      <th>Country</th>\n",
       "      <th>Cancelled</th>\n",
       "    </tr>\n",
       "  </thead>\n",
       "  <tbody>\n",
       "    <tr>\n",
       "      <th>9302</th>\n",
       "      <td>537197</td>\n",
       "      <td>22841</td>\n",
       "      <td>round cake tin vintage green</td>\n",
       "      <td>1</td>\n",
       "      <td>12/5/2010 14:02</td>\n",
       "      <td>0.0</td>\n",
       "      <td>12647.0</td>\n",
       "      <td>Germany</td>\n",
       "      <td>0</td>\n",
       "    </tr>\n",
       "    <tr>\n",
       "      <th>33576</th>\n",
       "      <td>539263</td>\n",
       "      <td>22580</td>\n",
       "      <td>advent calendar gingham sack</td>\n",
       "      <td>4</td>\n",
       "      <td>12/16/2010 14:36</td>\n",
       "      <td>0.0</td>\n",
       "      <td>16560.0</td>\n",
       "      <td>United Kingdom</td>\n",
       "      <td>0</td>\n",
       "    </tr>\n",
       "    <tr>\n",
       "      <th>40089</th>\n",
       "      <td>539722</td>\n",
       "      <td>22423</td>\n",
       "      <td>regency cakestand 3 tier</td>\n",
       "      <td>10</td>\n",
       "      <td>12/21/2010 13:45</td>\n",
       "      <td>0.0</td>\n",
       "      <td>14911.0</td>\n",
       "      <td>EIRE</td>\n",
       "      <td>0</td>\n",
       "    </tr>\n",
       "    <tr>\n",
       "      <th>47068</th>\n",
       "      <td>540372</td>\n",
       "      <td>22090</td>\n",
       "      <td>paper bunting retrospot</td>\n",
       "      <td>24</td>\n",
       "      <td>1/6/2011 16:41</td>\n",
       "      <td>0.0</td>\n",
       "      <td>13081.0</td>\n",
       "      <td>United Kingdom</td>\n",
       "      <td>0</td>\n",
       "    </tr>\n",
       "    <tr>\n",
       "      <th>47070</th>\n",
       "      <td>540372</td>\n",
       "      <td>22553</td>\n",
       "      <td>plasters in tin skulls</td>\n",
       "      <td>24</td>\n",
       "      <td>1/6/2011 16:41</td>\n",
       "      <td>0.0</td>\n",
       "      <td>13081.0</td>\n",
       "      <td>United Kingdom</td>\n",
       "      <td>0</td>\n",
       "    </tr>\n",
       "  </tbody>\n",
       "</table>\n",
       "</div>"
      ],
      "text/plain": [
       "      InvoiceNo StockCode                   Description  Quantity  \\\n",
       "9302     537197     22841  round cake tin vintage green         1   \n",
       "33576    539263     22580  advent calendar gingham sack         4   \n",
       "40089    539722     22423      regency cakestand 3 tier        10   \n",
       "47068    540372     22090       paper bunting retrospot        24   \n",
       "47070    540372     22553        plasters in tin skulls        24   \n",
       "\n",
       "            InvoiceDate  UnitPrice  CustomerID         Country  Cancelled  \n",
       "9302    12/5/2010 14:02        0.0     12647.0         Germany          0  \n",
       "33576  12/16/2010 14:36        0.0     16560.0  United Kingdom          0  \n",
       "40089  12/21/2010 13:45        0.0     14911.0            EIRE          0  \n",
       "47068    1/6/2011 16:41        0.0     13081.0  United Kingdom          0  \n",
       "47070    1/6/2011 16:41        0.0     13081.0  United Kingdom          0  "
      ]
     },
     "execution_count": 35,
     "metadata": {},
     "output_type": "execute_result"
    }
   ],
   "source": [
    "df[df.UnitPrice == 0].head()"
   ]
  },
  {
   "cell_type": "markdown",
   "id": "3a4f4b5b",
   "metadata": {
    "papermill": {
     "duration": 0.047225,
     "end_time": "2021-10-29T02:58:30.275676",
     "exception": false,
     "start_time": "2021-10-29T02:58:30.228451",
     "status": "completed"
    },
    "tags": []
   },
   "source": [
    "I didn't find any pattern. So, I remove them."
   ]
  },
  {
   "cell_type": "code",
   "execution_count": 36,
   "id": "6c9ffb0d",
   "metadata": {
    "_kg_hide-input": true,
    "execution": {
     "iopub.execute_input": "2021-10-29T02:58:30.374828Z",
     "iopub.status.busy": "2021-10-29T02:58:30.374210Z",
     "iopub.status.idle": "2021-10-29T02:58:30.411114Z",
     "shell.execute_reply": "2021-10-29T02:58:30.411542Z",
     "shell.execute_reply.started": "2021-10-29T02:42:22.595332Z"
    },
    "papermill": {
     "duration": 0.087898,
     "end_time": "2021-10-29T02:58:30.411719",
     "exception": false,
     "start_time": "2021-10-29T02:58:30.323821",
     "status": "completed"
    },
    "tags": []
   },
   "outputs": [
    {
     "name": "stdout",
     "output_type": "stream",
     "text": [
      "We have 396370 observations.\n",
      "We have 396337 observations after removing records that have 0 unit price.\n"
     ]
    }
   ],
   "source": [
    "print(\"We have {} observations.\".format(df.shape[0]))\n",
    "\n",
    "df = df[df.UnitPrice > 0]\n",
    "\n",
    "print(\"We have {} observations after removing records that have 0 unit price.\".format(df.shape[0]))"
   ]
  },
  {
   "cell_type": "code",
   "execution_count": 37,
   "id": "6aa4cb48",
   "metadata": {
    "_kg_hide-input": true,
    "execution": {
     "iopub.execute_input": "2021-10-29T02:58:30.544165Z",
     "iopub.status.busy": "2021-10-29T02:58:30.543186Z",
     "iopub.status.idle": "2021-10-29T02:58:34.595091Z",
     "shell.execute_reply": "2021-10-29T02:58:34.594019Z",
     "shell.execute_reply.started": "2021-10-29T02:42:22.637078Z"
    },
    "papermill": {
     "duration": 4.135627,
     "end_time": "2021-10-29T02:58:34.595234",
     "exception": false,
     "start_time": "2021-10-29T02:58:30.459607",
     "status": "completed"
    },
    "tags": []
   },
   "outputs": [
    {
     "data": {
      "image/png": "[encoded data removed]",
      "text/plain": [
       "<Figure size 1296x432 with 3 Axes>"
      ]
     },
     "metadata": {},
     "output_type": "display_data"
    }
   ],
   "source": [
    "fig, axes = plt.subplots(1, 3, figsize = (18, 6))\n",
    "\n",
    "sns.kdeplot(df[\"UnitPrice\"], ax = axes[0], color = \"#195190\").set_title(\"Distribution of Unit Price\")\n",
    "sns.boxplot(y = df[\"UnitPrice\"], ax = axes[1], color = \"#195190\").set_title(\"Boxplot for Unit Price\")\n",
    "sns.kdeplot(np.log(df[\"UnitPrice\"]), ax = axes[2], color = \"#195190\").set_title(\"Log Unit Price Distribution\")\n",
    "\n",
    "plt.show()"
   ]
  },
  {
   "cell_type": "code",
   "execution_count": 38,
   "id": "f67d7782",
   "metadata": {
    "_kg_hide-input": true,
    "execution": {
     "iopub.execute_input": "2021-10-29T02:58:34.702001Z",
     "iopub.status.busy": "2021-10-29T02:58:34.701375Z",
     "iopub.status.idle": "2021-10-29T02:58:34.703704Z",
     "shell.execute_reply": "2021-10-29T02:58:34.704125Z",
     "shell.execute_reply.started": "2021-10-29T02:42:26.726234Z"
    },
    "papermill": {
     "duration": 0.058693,
     "end_time": "2021-10-29T02:58:34.704279",
     "exception": false,
     "start_time": "2021-10-29T02:58:34.645586",
     "status": "completed"
    },
    "scrolled": true,
    "tags": []
   },
   "outputs": [
    {
     "name": "stdout",
     "output_type": "stream",
     "text": [
      "Lower limit for UnitPrice: 0.1353352832366127\n",
      "Upper limit for UnitPrice: 20.085536923187668\n"
     ]
    }
   ],
   "source": [
    "print(\"Lower limit for UnitPrice: \" + str(np.exp(-2)))\n",
    "print(\"Upper limit for UnitPrice: \" + str(np.exp(3)))"
   ]
  },
  {
   "cell_type": "code",
   "execution_count": 39,
   "id": "52dc82ce",
   "metadata": {
    "execution": {
     "iopub.execute_input": "2021-10-29T02:58:34.811407Z",
     "iopub.status.busy": "2021-10-29T02:58:34.810831Z",
     "iopub.status.idle": "2021-10-29T02:58:34.819915Z",
     "shell.execute_reply": "2021-10-29T02:58:34.819412Z",
     "shell.execute_reply.started": "2021-10-29T02:42:26.735364Z"
    },
    "papermill": {
     "duration": 0.065634,
     "end_time": "2021-10-29T02:58:34.820044",
     "exception": false,
     "start_time": "2021-10-29T02:58:34.754410",
     "status": "completed"
    },
    "tags": []
   },
   "outputs": [
    {
     "data": {
      "text/plain": [
       "12.75"
      ]
     },
     "execution_count": 39,
     "metadata": {},
     "output_type": "execute_result"
    }
   ],
   "source": [
    "np.quantile(df.UnitPrice, 0.99)"
   ]
  },
  {
   "cell_type": "code",
   "execution_count": 40,
   "id": "6ff7adce",
   "metadata": {
    "_kg_hide-input": true,
    "execution": {
     "iopub.execute_input": "2021-10-29T02:58:34.923807Z",
     "iopub.status.busy": "2021-10-29T02:58:34.923186Z",
     "iopub.status.idle": "2021-10-29T02:58:34.963086Z",
     "shell.execute_reply": "2021-10-29T02:58:34.963519Z",
     "shell.execute_reply.started": "2021-10-29T02:42:26.757469Z"
    },
    "papermill": {
     "duration": 0.09352,
     "end_time": "2021-10-29T02:58:34.963693",
     "exception": false,
     "start_time": "2021-10-29T02:58:34.870173",
     "status": "completed"
    },
    "tags": []
   },
   "outputs": [
    {
     "name": "stdout",
     "output_type": "stream",
     "text": [
      "We have 396337 observations.\n",
      "We have 395385 observations after removing unit prices smaller than 0.1 and greater than 20.\n"
     ]
    }
   ],
   "source": [
    "print(\"We have {} observations.\".format(df.shape[0]))\n",
    "\n",
    "df = df[(df.UnitPrice > 0.1) & (df.UnitPrice < 20)]\n",
    "\n",
    "print(\"We have {} observations after removing unit prices smaller than 0.1 and greater than 20.\".format(df.shape[0]))"
   ]
  },
  {
   "cell_type": "code",
   "execution_count": 41,
   "id": "bba526ac",
   "metadata": {
    "_kg_hide-input": true,
    "execution": {
     "iopub.execute_input": "2021-10-29T02:58:35.069562Z",
     "iopub.status.busy": "2021-10-29T02:58:35.068918Z",
     "iopub.status.idle": "2021-10-29T02:58:39.320728Z",
     "shell.execute_reply": "2021-10-29T02:58:39.321188Z",
     "shell.execute_reply.started": "2021-10-29T02:42:26.806719Z"
    },
    "papermill": {
     "duration": 4.306816,
     "end_time": "2021-10-29T02:58:39.321353",
     "exception": false,
     "start_time": "2021-10-29T02:58:35.014537",
     "status": "completed"
    },
    "tags": []
   },
   "outputs": [
    {
     "data": {
      "image/png": "[encoded data removed]",
      "text/plain": [
       "<Figure size 1296x432 with 3 Axes>"
      ]
     },
     "metadata": {},
     "output_type": "display_data"
    }
   ],
   "source": [
    "fig, axes = plt.subplots(1, 3, figsize = (18, 6))\n",
    "\n",
    "sns.kdeplot(df[\"UnitPrice\"], ax = axes[0], color = \"#195190\").set_title(\"Distribution of Unit Price\")\n",
    "sns.boxplot(y = df[\"UnitPrice\"], ax = axes[1], color = \"#195190\").set_title(\"Boxplot for Unit Price\")\n",
    "sns.kdeplot(np.log(df[\"UnitPrice\"]), ax = axes[2], color = \"#195190\").set_title(\"Log Unit Price Distribution\")\n",
    "\n",
    "fig.suptitle(\"Distribution of Unit Price (After Removing Outliers)\")\n",
    "plt.show()"
   ]
  },
  {
   "cell_type": "code",
   "execution_count": 42,
   "id": "4ac79de9",
   "metadata": {
    "execution": {
     "iopub.execute_input": "2021-10-29T02:58:39.437526Z",
     "iopub.status.busy": "2021-10-29T02:58:39.436933Z",
     "iopub.status.idle": "2021-10-29T02:58:39.457273Z",
     "shell.execute_reply": "2021-10-29T02:58:39.456812Z",
     "shell.execute_reply.started": "2021-10-29T02:42:31.210408Z"
    },
    "papermill": {
     "duration": 0.082636,
     "end_time": "2021-10-29T02:58:39.457424",
     "exception": false,
     "start_time": "2021-10-29T02:58:39.374788",
     "status": "completed"
    },
    "tags": []
   },
   "outputs": [
    {
     "data": {
      "text/plain": [
       "count    395385.000000\n",
       "mean         12.946075\n",
       "std         179.665683\n",
       "min           1.000000\n",
       "25%           2.000000\n",
       "50%           6.000000\n",
       "75%          12.000000\n",
       "max       80995.000000\n",
       "Name: Quantity, dtype: float64"
      ]
     },
     "execution_count": 42,
     "metadata": {},
     "output_type": "execute_result"
    }
   ],
   "source": [
    "df[\"Quantity\"].describe()"
   ]
  },
  {
   "cell_type": "markdown",
   "id": "56f4cf0c",
   "metadata": {
    "papermill": {
     "duration": 0.052903,
     "end_time": "2021-10-29T02:58:39.563730",
     "exception": false,
     "start_time": "2021-10-29T02:58:39.510827",
     "status": "completed"
    },
    "tags": []
   },
   "source": [
    "75%          12.000000\n",
    "\n",
    "max       80995.000000\n",
    "\n",
    "Let's look at these outliers."
   ]
  },
  {
   "cell_type": "code",
   "execution_count": 43,
   "id": "eea09049",
   "metadata": {
    "_kg_hide-input": true,
    "execution": {
     "iopub.execute_input": "2021-10-29T02:58:39.681223Z",
     "iopub.status.busy": "2021-10-29T02:58:39.680280Z",
     "iopub.status.idle": "2021-10-29T02:58:43.396061Z",
     "shell.execute_reply": "2021-10-29T02:58:43.396932Z",
     "shell.execute_reply.started": "2021-10-29T02:42:31.232466Z"
    },
    "papermill": {
     "duration": 3.78019,
     "end_time": "2021-10-29T02:58:43.397115",
     "exception": false,
     "start_time": "2021-10-29T02:58:39.616925",
     "status": "completed"
    },
    "tags": []
   },
   "outputs": [
    {
     "data": {
      "image/png": "[encoded data removed]",
      "text/plain": [
       "<Figure size 1296x432 with 3 Axes>"
      ]
     },
     "metadata": {},
     "output_type": "display_data"
    }
   ],
   "source": [
    "fig, axes = plt.subplots(1, 3, figsize = (18, 6))\n",
    "\n",
    "sns.kdeplot(df[\"Quantity\"], ax = axes[0], color = \"#195190\").set_title(\"Distribution of Quantity\")\n",
    "sns.boxplot(y = df[\"Quantity\"], ax = axes[1], color = \"#195190\").set_title(\"Boxplot for Quantity\")\n",
    "sns.kdeplot(np.log(df[\"Quantity\"]), ax = axes[2], color = \"#195190\").set_title(\"Log Quantity\")\n",
    "plt.show()"
   ]
  },
  {
   "cell_type": "code",
   "execution_count": 44,
   "id": "ec192078",
   "metadata": {
    "_kg_hide-input": true,
    "execution": {
     "iopub.execute_input": "2021-10-29T02:58:43.534621Z",
     "iopub.status.busy": "2021-10-29T02:58:43.533987Z",
     "iopub.status.idle": "2021-10-29T02:58:43.536591Z",
     "shell.execute_reply": "2021-10-29T02:58:43.537069Z",
     "shell.execute_reply.started": "2021-10-29T02:42:35.032783Z"
    },
    "papermill": {
     "duration": 0.07763,
     "end_time": "2021-10-29T02:58:43.537227",
     "exception": false,
     "start_time": "2021-10-29T02:58:43.459597",
     "status": "completed"
    },
    "tags": []
   },
   "outputs": [
    {
     "name": "stdout",
     "output_type": "stream",
     "text": [
      "Upper limit for Quantity: 148.4131591025766\n"
     ]
    }
   ],
   "source": [
    "print(\"Upper limit for Quantity: \" + str(np.exp(5)))"
   ]
  },
  {
   "cell_type": "code",
   "execution_count": 45,
   "id": "c19d1072",
   "metadata": {
    "execution": {
     "iopub.execute_input": "2021-10-29T02:58:43.649761Z",
     "iopub.status.busy": "2021-10-29T02:58:43.649168Z",
     "iopub.status.idle": "2021-10-29T02:58:43.658826Z",
     "shell.execute_reply": "2021-10-29T02:58:43.659258Z",
     "shell.execute_reply.started": "2021-10-29T02:42:35.039041Z"
    },
    "papermill": {
     "duration": 0.067072,
     "end_time": "2021-10-29T02:58:43.659428",
     "exception": false,
     "start_time": "2021-10-29T02:58:43.592356",
     "status": "completed"
    },
    "tags": []
   },
   "outputs": [
    {
     "data": {
      "text/plain": [
       "120.0"
      ]
     },
     "execution_count": 45,
     "metadata": {},
     "output_type": "execute_result"
    }
   ],
   "source": [
    "np.quantile(df.Quantity, 0.99)"
   ]
  },
  {
   "cell_type": "code",
   "execution_count": 46,
   "id": "75a5d18e",
   "metadata": {
    "_kg_hide-input": true,
    "execution": {
     "iopub.execute_input": "2021-10-29T02:58:43.772302Z",
     "iopub.status.busy": "2021-10-29T02:58:43.771766Z",
     "iopub.status.idle": "2021-10-29T02:58:43.811163Z",
     "shell.execute_reply": "2021-10-29T02:58:43.810660Z",
     "shell.execute_reply.started": "2021-10-29T02:42:35.061891Z"
    },
    "papermill": {
     "duration": 0.096822,
     "end_time": "2021-10-29T02:58:43.811289",
     "exception": false,
     "start_time": "2021-10-29T02:58:43.714467",
     "status": "completed"
    },
    "tags": []
   },
   "outputs": [
    {
     "name": "stdout",
     "output_type": "stream",
     "text": [
      "We have 395385 observations.\n",
      "We have 392735 observations after removing quantities greater than 150.\n"
     ]
    }
   ],
   "source": [
    "print(\"We have {} observations.\".format(df.shape[0]))\n",
    "\n",
    "df = df[(df.Quantity < 150)]\n",
    "\n",
    "print(\"We have {} observations after removing quantities greater than 150.\".format(df.shape[0]))"
   ]
  },
  {
   "cell_type": "code",
   "execution_count": 47,
   "id": "619b11af",
   "metadata": {
    "_kg_hide-input": true,
    "execution": {
     "iopub.execute_input": "2021-10-29T02:58:43.932137Z",
     "iopub.status.busy": "2021-10-29T02:58:43.928825Z",
     "iopub.status.idle": "2021-10-29T02:58:48.020321Z",
     "shell.execute_reply": "2021-10-29T02:58:48.020788Z",
     "shell.execute_reply.started": "2021-10-29T02:42:35.105878Z"
    },
    "papermill": {
     "duration": 4.154168,
     "end_time": "2021-10-29T02:58:48.020955",
     "exception": false,
     "start_time": "2021-10-29T02:58:43.866787",
     "status": "completed"
    },
    "tags": []
   },
   "outputs": [
    {
     "data": {
      "image/png": "[encoded data removed]",
      "text/plain": [
       "<Figure size 1296x432 with 3 Axes>"
      ]
     },
     "metadata": {},
     "output_type": "display_data"
    }
   ],
   "source": [
    "fig, axes = plt.subplots(1, 3, figsize = (18, 6))\n",
    "\n",
    "sns.kdeplot(df[\"Quantity\"], ax = axes[0], color = \"#195190\").set_title(\"Distribution of Quantity\")\n",
    "sns.boxplot(y = df[\"Quantity\"], ax = axes[1], color = \"#195190\").set_title(\"Boxplot for Quantity\")\n",
    "sns.kdeplot(np.log(df[\"Quantity\"]), ax = axes[2], color = \"#195190\").set_title(\"Log Quantity\")\n",
    "\n",
    "fig.suptitle(\"Distribution of Quantity (After Removing Outliers)\")\n",
    "plt.show()"
   ]
  },
  {
   "cell_type": "code",
   "execution_count": 48,
   "id": "28c4497d",
   "metadata": {
    "execution": {
     "iopub.execute_input": "2021-10-29T02:58:48.139778Z",
     "iopub.status.busy": "2021-10-29T02:58:48.138855Z",
     "iopub.status.idle": "2021-10-29T02:58:49.578198Z",
     "shell.execute_reply": "2021-10-29T02:58:49.578706Z",
     "shell.execute_reply.started": "2021-10-29T02:42:39.291505Z"
    },
    "papermill": {
     "duration": 1.501072,
     "end_time": "2021-10-29T02:58:49.578892",
     "exception": false,
     "start_time": "2021-10-29T02:58:48.077820",
     "status": "completed"
    },
    "tags": []
   },
   "outputs": [],
   "source": [
    "df[\"TotalPrice\"] = df[\"Quantity\"] * df[\"UnitPrice\"]\n",
    "df['InvoiceDate'] = pd.to_datetime(df['InvoiceDate'])"
   ]
  },
  {
   "cell_type": "code",
   "execution_count": 49,
   "id": "41b40252",
   "metadata": {
    "execution": {
     "iopub.execute_input": "2021-10-29T02:58:49.696961Z",
     "iopub.status.busy": "2021-10-29T02:58:49.696260Z",
     "iopub.status.idle": "2021-10-29T02:58:52.094517Z",
     "shell.execute_reply": "2021-10-29T02:58:52.093977Z",
     "shell.execute_reply.started": "2021-10-29T02:42:41.107088Z"
    },
    "papermill": {
     "duration": 2.458105,
     "end_time": "2021-10-29T02:58:52.094673",
     "exception": false,
     "start_time": "2021-10-29T02:58:49.636568",
     "status": "completed"
    },
    "tags": []
   },
   "outputs": [],
   "source": [
    "df.drop(\"Cancelled\", axis = 1, inplace = True)\n",
    "df.to_csv(\"online_retail_final.csv\", index = False)"
   ]
  },
  {
   "cell_type": "markdown",
   "id": "01c4fbf7",
   "metadata": {
    "papermill": {
     "duration": 0.05703,
     "end_time": "2021-10-29T02:58:52.209335",
     "exception": false,
     "start_time": "2021-10-29T02:58:52.152305",
     "status": "completed"
    },
    "tags": []
   },
   "source": [
    "# Next"
   ]
  },
  {
   "cell_type": "markdown",
   "id": "dfa12311",
   "metadata": {
    "papermill": {
     "duration": 0.056903,
     "end_time": "2021-10-29T02:58:52.323692",
     "exception": false,
     "start_time": "2021-10-29T02:58:52.266789",
     "status": "completed"
    },
    "tags": []
   },
   "source": [
    "You can reach this data from here. https://www.kaggle.com/mustafacicek/online-retail-final\n",
    "\n",
    "Next chapters:\n",
    "\n",
    "https://www.kaggle.com/mustafacicek/marketing-analytics-cohort-analysis\n",
    "\n",
    "https://www.kaggle.com/mustafacicek/marketing-analytics-pareto-principle\n",
    "\n",
    "https://www.kaggle.com/mustafacicek/marketing-analytics-rfm-analysis\n",
    "\n",
    "https://www.kaggle.com/mustafacicek/marketing-analytics-forecasting\n",
    "\n",
    "Full work: https://www.kaggle.com/mustafacicek/detailed-marketing-cohort-pareto-rfm-forecast"
   ]
  }
 ],
 "metadata": {
  "kernelspec": {
   "display_name": "Python 3",
   "language": "python",
   "name": "python3"
  },
  "language_info": {
   "codemirror_mode": {
    "name": "ipython",
    "version": 3
   },
   "file_extension": ".py",
   "mimetype": "text/x-python",
   "name": "python",
   "nbconvert_exporter": "python",
   "pygments_lexer": "ipython3",
   "version": "3.7.10"
  },
  "papermill": {
   "default_parameters": {},
   "duration": 41.646872,
   "end_time": "2021-10-29T02:58:53.191274",
   "environment_variables": {},
   "exception": null,
   "input_path": "__notebook__.ipynb",
   "output_path": "__notebook__.ipynb",
   "parameters": {},
   "start_time": "2021-10-29T02:58:11.544402",
   "version": "2.3.3"
  }
 },
 "nbformat": 4,
 "nbformat_minor": 5
}
